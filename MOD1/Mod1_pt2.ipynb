{
 "cells": [
  {
   "cell_type": "markdown",
   "id": "5986b1ff-7b95-4879-96b9-0759d677e8fe",
   "metadata": {},
   "source": [
    "# Lesson 2: Loading and exploring data \n",
    "\n",
    "These data are the length and mercury content of fish caught on the K'Avi reservation in 1998, soon after the polluting factory was shut down. \n",
    "\n",
    "* Each row is data from one fish. \n",
    "* The first column \"length\" is the length of the fish in cm. \n",
    "* The second column \"mercury\" is the concentration of mercury in the fish, in units of micrograms (ug) of mercury per gram of fish (g). \n"
   ]
  },
  {
   "cell_type": "code",
   "execution_count": 2,
   "id": "930f88af-1628-4b60-8a26-cf752b6bfb75",
   "metadata": {},
   "outputs": [],
   "source": [
    "fish_1998 <- read.csv(\"fish_1998.csv\", header = TRUE, sep = ',')"
   ]
  },
  {
   "cell_type": "markdown",
   "id": "a1c79f47-74f0-47e7-bfc7-311d55c52f8f",
   "metadata": {},
   "source": [
    "Let's break down the different parts of what just happened:\n",
    "\n",
    "1. We told R to read the data (a .csv file) using the command `read.csv()`\n",
    "2. Within the (\"\"), we identify the data file from our working directory that we want to load into R\n",
    "3. `header = TRUE` tells R that the first row of data is the column names. The alternative is `header = FALSE`\n",
    "4. `sep` is short for the word \"separate\", and it tells R that each column in the csv is separated by a comma ','\n",
    "3. `fish_1998` is the name we are giving that file in R, and is how we will refer to this data going forward.\n",
    "4. `<-` is like = in a math equation, it tells R that `fish_1998` is the same as the data \"fish_1998.csv\"\n",
    "5. This command turns a file on your computer (fish_1998.csv) into a dataframe (`fish_1998`) that you can examine in RStudio. A 'dataframe' is the way R can see data that has rows and columns. When you run line of code above, R looks for the .csv file called \"fish_1998.csv\" and imports it into this RStudio session in a format (a database) that you can use for coding. The new dataframe (`fish_1998`) should appear in the RStudio \"Environment\" window in the upper right if you are working in RStudio. \n"
   ]
  },
  {
   "cell_type": "markdown",
   "id": "5436f589-1b1d-4812-b91a-7b1616907f1f",
   "metadata": {},
   "source": [
    "## Previewing the data\n",
    "\n",
    "**Note:** If working in RStudio, `View()` will open a spreadsheet in new tab in this window (the \"source editor\" window). \n",
    "\n",
    "* Look through these data to see if they make sense (any weird numbers? Any missing data?).\n",
    "* Then close that tab and come back to this window.\n",
    "\n",
    "If we don't want to look at all of the data and instead just want to see what is going on in the first couple rows we can use the following code. \n",
    "\n",
    "The command `head()` shows the column names and the first 6 rows of the data. We can also use `str()` which shows the structure of the data, including column names, data type, ad dimensions. "
   ]
  },
  {
   "cell_type": "code",
   "execution_count": 5,
   "id": "2845cb2a-56a7-4789-9e21-b4423fc182d0",
   "metadata": {},
   "outputs": [
    {
     "data": {
      "text/html": [
       "<table class=\"dataframe\">\n",
       "<caption>A data.frame: 6 × 3</caption>\n",
       "<thead>\n",
       "\t<tr><th></th><th scope=col>X</th><th scope=col>length</th><th scope=col>mercury</th></tr>\n",
       "\t<tr><th></th><th scope=col>&lt;int&gt;</th><th scope=col>&lt;dbl&gt;</th><th scope=col>&lt;dbl&gt;</th></tr>\n",
       "</thead>\n",
       "<tbody>\n",
       "\t<tr><th scope=row>1</th><td>1</td><td>45.21643</td><td>0.4315457</td></tr>\n",
       "\t<tr><th scope=row>2</th><td>2</td><td>44.34876</td><td>0.4969477</td></tr>\n",
       "\t<tr><th scope=row>3</th><td>3</td><td>46.86563</td><td>0.4491865</td></tr>\n",
       "\t<tr><th scope=row>4</th><td>4</td><td>41.67329</td><td>0.4137213</td></tr>\n",
       "\t<tr><th scope=row>5</th><td>5</td><td>51.34514</td><td>0.7491135</td></tr>\n",
       "\t<tr><th scope=row>6</th><td>6</td><td>56.66428</td><td>0.6807240</td></tr>\n",
       "</tbody>\n",
       "</table>\n"
      ],
      "text/latex": [
       "A data.frame: 6 × 3\n",
       "\\begin{tabular}{r|lll}\n",
       "  & X & length & mercury\\\\\n",
       "  & <int> & <dbl> & <dbl>\\\\\n",
       "\\hline\n",
       "\t1 & 1 & 45.21643 & 0.4315457\\\\\n",
       "\t2 & 2 & 44.34876 & 0.4969477\\\\\n",
       "\t3 & 3 & 46.86563 & 0.4491865\\\\\n",
       "\t4 & 4 & 41.67329 & 0.4137213\\\\\n",
       "\t5 & 5 & 51.34514 & 0.7491135\\\\\n",
       "\t6 & 6 & 56.66428 & 0.6807240\\\\\n",
       "\\end{tabular}\n"
      ],
      "text/markdown": [
       "\n",
       "A data.frame: 6 × 3\n",
       "\n",
       "| <!--/--> | X &lt;int&gt; | length &lt;dbl&gt; | mercury &lt;dbl&gt; |\n",
       "|---|---|---|---|\n",
       "| 1 | 1 | 45.21643 | 0.4315457 |\n",
       "| 2 | 2 | 44.34876 | 0.4969477 |\n",
       "| 3 | 3 | 46.86563 | 0.4491865 |\n",
       "| 4 | 4 | 41.67329 | 0.4137213 |\n",
       "| 5 | 5 | 51.34514 | 0.7491135 |\n",
       "| 6 | 6 | 56.66428 | 0.6807240 |\n",
       "\n"
      ],
      "text/plain": [
       "  X length   mercury  \n",
       "1 1 45.21643 0.4315457\n",
       "2 2 44.34876 0.4969477\n",
       "3 3 46.86563 0.4491865\n",
       "4 4 41.67329 0.4137213\n",
       "5 5 51.34514 0.7491135\n",
       "6 6 56.66428 0.6807240"
      ]
     },
     "metadata": {},
     "output_type": "display_data"
    },
    {
     "name": "stdout",
     "output_type": "stream",
     "text": [
      "'data.frame':\t300 obs. of  3 variables:\n",
      " $ X      : int  1 2 3 4 5 6 7 8 9 10 ...\n",
      " $ length : num  45.2 44.3 46.9 41.7 51.3 ...\n",
      " $ mercury: num  0.432 0.497 0.449 0.414 0.749 ...\n"
     ]
    }
   ],
   "source": [
    "head(fish_1998)\n",
    "\n",
    "str(fish_1998)"
   ]
  },
  {
   "cell_type": "markdown",
   "id": "1cc91018-b35e-47ca-bac4-634fdf1d790b",
   "metadata": {},
   "source": [
    "🧠✍️ **Class Questions** \n",
    "\n",
    "* What are the columns in the R dataframe called fish_1998?\n",
    "* What sorts of questions could the tribal fishery managers answer with this data?\n",
    "\n",
    "## Exploring dimensions of data \n",
    "\n",
    "To answer these questions, it would be helpful to know how many fish have mercury measurements.We can very quickly find that out with the following code.\n",
    "\n",
    "The command `dim()` shows the dimension of the dataset. \"Dimension\" is the number of rows & number of columns."
   ]
  },
  {
   "cell_type": "code",
   "execution_count": 4,
   "id": "4ab62d96-79c3-4020-999e-d5d5478e6c5e",
   "metadata": {},
   "outputs": [
    {
     "data": {
      "text/html": [
       "<style>\n",
       ".list-inline {list-style: none; margin:0; padding: 0}\n",
       ".list-inline>li {display: inline-block}\n",
       ".list-inline>li:not(:last-child)::after {content: \"\\00b7\"; padding: 0 .5ex}\n",
       "</style>\n",
       "<ol class=list-inline><li>300</li><li>3</li></ol>\n"
      ],
      "text/latex": [
       "\\begin{enumerate*}\n",
       "\\item 300\n",
       "\\item 3\n",
       "\\end{enumerate*}\n"
      ],
      "text/markdown": [
       "1. 300\n",
       "2. 3\n",
       "\n",
       "\n"
      ],
      "text/plain": [
       "[1] 300   3"
      ]
     },
     "metadata": {},
     "output_type": "display_data"
    }
   ],
   "source": [
    "dim(fish_1998)"
   ]
  },
  {
   "cell_type": "markdown",
   "id": "6970a716-c723-4cb2-a106-c21ab03546dd",
   "metadata": {},
   "source": [
    "🧠✍️ **Class Questions** \n",
    "\n",
    "* How many fish did the managers measure mercury on in 1998?\n",
    "\n",
    "## Lesson 2 Recap\n",
    "\n",
    "In Lesson 2 we learned how to: \n",
    "- Load a csv file as a data frame using `read.csv()`\n",
    "- Preview the data frame using `head()`, `str()`\n",
    "- Identify number of rows and columns using `dim()`\n"
   ]
  }
 ],
 "metadata": {
  "kernelspec": {
   "display_name": "R",
   "language": "R",
   "name": "ir"
  },
  "language_info": {
   "codemirror_mode": "r",
   "file_extension": ".r",
   "mimetype": "text/x-r-source",
   "name": "R",
   "pygments_lexer": "r",
   "version": "4.5.0"
  }
 },
 "nbformat": 4,
 "nbformat_minor": 5
}
