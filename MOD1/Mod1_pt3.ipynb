{
 "cells": [
  {
   "cell_type": "markdown",
   "id": "a1b62d50-58ae-4285-b7d4-92e89bef810f",
   "metadata": {},
   "source": [
    "# Lesson 3: Calculating descriptive statistics\n",
    "\n",
    "Recall the maximum screening value of mercury to consume depends on how often fish are being consumed, and weight of person. According to the EPA, the maximum screening value of mercury to be consumed is around 0.46 ug/g/day if not frequently consuming fish. \n",
    "\n",
    "Tribal fishery managers are interested in whether the mercury levels in local fish belly fat exceeds this amount. They are also interested in if the amount of mercury in fish is connected to fish size. \n",
    "\n",
    "Below, we will analyze data points from the \"fish\" data set to try and answer these questions. \n",
    "\n",
    "From Lesson 1, we learned that we can reference columns in a data frame using `$`. Next we will use functions applied to the `mercury` column, starting with the `mean()`."
   ]
  },
  {
   "cell_type": "code",
   "execution_count": 4,
   "id": "e5b2b4d9-a6c0-4e0f-9ee0-a9af469e94ed",
   "metadata": {},
   "outputs": [
    {
     "data": {
      "text/html": [
       "0.448117680713238"
      ],
      "text/latex": [
       "0.448117680713238"
      ],
      "text/markdown": [
       "0.448117680713238"
      ],
      "text/plain": [
       "[1] 0.4481177"
      ]
     },
     "metadata": {},
     "output_type": "display_data"
    }
   ],
   "source": [
    "# reload data \n",
    "fish_1998 <- read.csv(\"fish_1998.csv\", header = TRUE, sep = ',')\n",
    "\n",
    "# get the mean of mercury column \n",
    "mean(fish_1998$mercury)"
   ]
  },
  {
   "cell_type": "markdown",
   "id": "07720f43-09c5-4834-aa46-874ced909282",
   "metadata": {},
   "source": [
    "🧠✍️ **Class Questions** \n",
    "\n",
    "- What is the mean (average) amound of mercury found in local fish in 1998? \n",
    "- Why would knowing the mean amount of mercury in fish be useful for fishery managers and the community?\n",
    "\n",
    "## Descriptive statistics: mean v. median \n",
    "\n",
    "The \"median\" is the middle level of mercury data (half the fish in the dataset have more mercury and half have less). \n",
    "\n",
    "Means and medians are often similar, However:\n",
    "  * They will be different if the data have a lot of large values or a lot of small valued (skewed data).\n",
    "  * Sometimes you are asked to use one or the other, so it's good to be careful about which you are calculating."
   ]
  },
  {
   "cell_type": "code",
   "execution_count": 5,
   "id": "15f8903b-7c5e-4bc2-b21d-316122292a13",
   "metadata": {},
   "outputs": [
    {
     "data": {
      "text/html": [
       "0.413539593842157"
      ],
      "text/latex": [
       "0.413539593842157"
      ],
      "text/markdown": [
       "0.413539593842157"
      ],
      "text/plain": [
       "[1] 0.4135396"
      ]
     },
     "metadata": {},
     "output_type": "display_data"
    }
   ],
   "source": [
    "median(fish_1998$mercury) "
   ]
  },
  {
   "cell_type": "markdown",
   "id": "be7ebfcc-88ec-46a7-aa76-ed54564fcf1c",
   "metadata": {},
   "source": [
    "🧠✍️ **Class Question:**\n",
    "\n",
    "* How would we interpret these median and mean values? Should the K'avi community be concerned?\n",
    "\n",
    "**Your turn**\n",
    "\n",
    "How can we find the minimum and maximum amount of mercury in the fish? \n",
    "Work in groups to see if you can find these values using the commands`max()` and `min()`"
   ]
  },
  {
   "cell_type": "code",
   "execution_count": null,
   "id": "587fdd60-88ec-4b27-9d80-06c190c9ba11",
   "metadata": {},
   "outputs": [],
   "source": [
    "# find the min and max mercury amount "
   ]
  },
  {
   "cell_type": "markdown",
   "id": "735c1e7c-e47c-4273-8ee2-9cb0dba75acf",
   "metadata": {},
   "source": [
    "🧠✍️ **Class Question:**\n",
    "\n",
    "- What are the minimum and maximum levels of mercury? \n",
    "- How would we interpret these maximum and minimum values? Are they as important as the average?\n",
    "\n",
    "## Summarizing data \n",
    "\n",
    "The mean, median, minimum and maximum are all \"descriptive statistics.\" This means that they provide key information about the distribution of data. Here, we want to know the distribution of mercury in fish collected in 1998.\n",
    "\n",
    "The function `summary()` estimates all these descriptive statsitics and more. 1st Qu. and 3rd Qu. refer to the 1st and 3rd \"Quartiles\", which represent a quarter of the data. They tell you that 25% of the data is between that value, the Median, and either the Min. (1st Qu.) or Max. (3rd Qu.).\n"
   ]
  },
  {
   "cell_type": "code",
   "execution_count": 6,
   "id": "4b6fdaf8-0d93-4974-8abb-c287a58deb28",
   "metadata": {},
   "outputs": [
    {
     "data": {
      "text/plain": [
       "    Min.  1st Qu.   Median     Mean  3rd Qu.     Max. \n",
       "0.007764 0.278103 0.413540 0.448118 0.557474 1.894938 "
      ]
     },
     "metadata": {},
     "output_type": "display_data"
    }
   ],
   "source": [
    "summary(fish_1998$mercury)"
   ]
  },
  {
   "cell_type": "markdown",
   "id": "31f58dfe-eaa3-4b81-baac-c7b08135ec55",
   "metadata": {},
   "source": [
    "🧠✍️ **Class Question:**\n",
    "\n",
    "* Looking at all of these values, are there unsafe levels of mercury in local fish? Are there dangerous levels of mercury in most fish, or only some?\n",
    "\n",
    "## Recap Lesson 3\n",
    "\n",
    "In Lesson 3 we learned how to:\n",
    "- get descriptive statistics for a vector\n",
    "- interpret the summary statistics for our data set  \n",
    "\n",
    "### How could we communicate these values?\n",
    "\n",
    "However, summary stats can't answer every question, and as a list of numbers they would be very difficult to \n",
    "communicate to the K'avi community. It would be much more helpful to visualize the data in a graph, which we will do in the next part. "
   ]
  }
 ],
 "metadata": {
  "kernelspec": {
   "display_name": "Python 3 (ipykernel)",
   "language": "python",
   "name": "python3"
  },
  "language_info": {
   "codemirror_mode": {
    "name": "ipython",
    "version": 3
   },
   "file_extension": ".py",
   "mimetype": "text/x-python",
   "name": "python",
   "nbconvert_exporter": "python",
   "pygments_lexer": "ipython3",
   "version": "3.12.10"
  }
 },
 "nbformat": 4,
 "nbformat_minor": 5
}
