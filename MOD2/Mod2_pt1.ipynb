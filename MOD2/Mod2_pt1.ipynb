{
 "cells": [
  {
   "cell_type": "markdown",
   "id": "9dfd3c85-85fe-44d5-8fb1-af47c1013248",
   "metadata": {},
   "source": [
    "# Lesson 1: Review loading and previewing data \n",
    "\n",
    "Like we did in Module 1, before we being to analyze our data, we need to do a few steps first.\n",
    "\n",
    "Next, we will load in packages, to get the extra tools we need for this module loaded in R. For this module, we will load in the tidyverse package. "
   ]
  },
  {
   "cell_type": "code",
   "execution_count": 1,
   "id": "c51a35a0-8be6-4842-844b-354ab5aebe78",
   "metadata": {},
   "outputs": [
    {
     "name": "stderr",
     "output_type": "stream",
     "text": [
      "── \u001b[1mAttaching packages\u001b[22m ─────────────────────────────────────── tidyverse 1.3.1 ──\n",
      "\n",
      "\u001b[32m✔\u001b[39m \u001b[34mggplot2\u001b[39m 3.5.1     \u001b[32m✔\u001b[39m \u001b[34mpurrr  \u001b[39m 1.0.2\n",
      "\u001b[32m✔\u001b[39m \u001b[34mtibble \u001b[39m 3.2.1     \u001b[32m✔\u001b[39m \u001b[34mdplyr  \u001b[39m 1.1.4\n",
      "\u001b[32m✔\u001b[39m \u001b[34mtidyr  \u001b[39m 1.3.1     \u001b[32m✔\u001b[39m \u001b[34mstringr\u001b[39m 1.5.1\n",
      "\u001b[32m✔\u001b[39m \u001b[34mreadr  \u001b[39m 2.1.2     \u001b[32m✔\u001b[39m \u001b[34mforcats\u001b[39m 0.5.1\n",
      "\n",
      "── \u001b[1mConflicts\u001b[22m ────────────────────────────────────────── tidyverse_conflicts() ──\n",
      "\u001b[31m✖\u001b[39m \u001b[34mdplyr\u001b[39m::\u001b[32mfilter()\u001b[39m masks \u001b[34mstats\u001b[39m::filter()\n",
      "\u001b[31m✖\u001b[39m \u001b[34mdplyr\u001b[39m::\u001b[32mlag()\u001b[39m    masks \u001b[34mstats\u001b[39m::lag()\n",
      "\n"
     ]
    }
   ],
   "source": [
    "library(tidyverse)"
   ]
  },
  {
   "cell_type": "markdown",
   "id": "733c498d-dfa1-43dd-83ee-76a008b3d5e0",
   "metadata": {},
   "source": [
    "## Load in data \n",
    "\n",
    "Now it’s time to load in our data! In this scenario, water temperature data and dissolved oxygen data were collected and stored in two separate files. Therefore, we will need to load in both files in order to use them.\n",
    "\n",
    "As a note, the units for temperature are Celsius (C) and the units for dissolved oxygen are mg/L.\n",
    "\n",
    "Now that our data is loaded into R, we can explore the data using the view and head commands. Our goal is to make sure things loaded correctly and to get a first look to see if the data make sense."
   ]
  },
  {
   "cell_type": "code",
   "execution_count": 3,
   "id": "6cb92f39-5b8d-4feb-93aa-52bdb90d2e34",
   "metadata": {},
   "outputs": [
    {
     "data": {
      "text/html": [
       "<table class=\"dataframe\">\n",
       "<caption>A data.frame: 16 × 3</caption>\n",
       "<thead>\n",
       "\t<tr><th scope=col>year</th><th scope=col>StreamA</th><th scope=col>StreamB</th></tr>\n",
       "\t<tr><th scope=col>&lt;int&gt;</th><th scope=col>&lt;dbl&gt;</th><th scope=col>&lt;dbl&gt;</th></tr>\n",
       "</thead>\n",
       "<tbody>\n",
       "\t<tr><td>2007</td><td>13.20</td><td>10.20</td></tr>\n",
       "\t<tr><td>2008</td><td>12.50</td><td>   NA</td></tr>\n",
       "\t<tr><td>2009</td><td>13.90</td><td>   NA</td></tr>\n",
       "\t<tr><td>2010</td><td>11.36</td><td>11.67</td></tr>\n",
       "\t<tr><td>2011</td><td>12.97</td><td>   NA</td></tr>\n",
       "\t<tr><td>2012</td><td>13.10</td><td>11.10</td></tr>\n",
       "\t<tr><td>2013</td><td>14.47</td><td>11.42</td></tr>\n",
       "\t<tr><td>2014</td><td>13.37</td><td>11.37</td></tr>\n",
       "\t<tr><td>2015</td><td>12.48</td><td>12.18</td></tr>\n",
       "\t<tr><td>2016</td><td>12.63</td><td>12.03</td></tr>\n",
       "\t<tr><td>2017</td><td>13.16</td><td>11.96</td></tr>\n",
       "\t<tr><td>2018</td><td>12.94</td><td>12.56</td></tr>\n",
       "\t<tr><td>2019</td><td>14.10</td><td>13.00</td></tr>\n",
       "\t<tr><td>2020</td><td>12.07</td><td>12.87</td></tr>\n",
       "\t<tr><td>2021</td><td>13.43</td><td>13.25</td></tr>\n",
       "\t<tr><td>2022</td><td>13.28</td><td>13.78</td></tr>\n",
       "</tbody>\n",
       "</table>\n"
      ],
      "text/latex": [
       "A data.frame: 16 × 3\n",
       "\\begin{tabular}{lll}\n",
       " year & StreamA & StreamB\\\\\n",
       " <int> & <dbl> & <dbl>\\\\\n",
       "\\hline\n",
       "\t 2007 & 13.20 & 10.20\\\\\n",
       "\t 2008 & 12.50 &    NA\\\\\n",
       "\t 2009 & 13.90 &    NA\\\\\n",
       "\t 2010 & 11.36 & 11.67\\\\\n",
       "\t 2011 & 12.97 &    NA\\\\\n",
       "\t 2012 & 13.10 & 11.10\\\\\n",
       "\t 2013 & 14.47 & 11.42\\\\\n",
       "\t 2014 & 13.37 & 11.37\\\\\n",
       "\t 2015 & 12.48 & 12.18\\\\\n",
       "\t 2016 & 12.63 & 12.03\\\\\n",
       "\t 2017 & 13.16 & 11.96\\\\\n",
       "\t 2018 & 12.94 & 12.56\\\\\n",
       "\t 2019 & 14.10 & 13.00\\\\\n",
       "\t 2020 & 12.07 & 12.87\\\\\n",
       "\t 2021 & 13.43 & 13.25\\\\\n",
       "\t 2022 & 13.28 & 13.78\\\\\n",
       "\\end{tabular}\n"
      ],
      "text/markdown": [
       "\n",
       "A data.frame: 16 × 3\n",
       "\n",
       "| year &lt;int&gt; | StreamA &lt;dbl&gt; | StreamB &lt;dbl&gt; |\n",
       "|---|---|---|\n",
       "| 2007 | 13.20 | 10.20 |\n",
       "| 2008 | 12.50 |    NA |\n",
       "| 2009 | 13.90 |    NA |\n",
       "| 2010 | 11.36 | 11.67 |\n",
       "| 2011 | 12.97 |    NA |\n",
       "| 2012 | 13.10 | 11.10 |\n",
       "| 2013 | 14.47 | 11.42 |\n",
       "| 2014 | 13.37 | 11.37 |\n",
       "| 2015 | 12.48 | 12.18 |\n",
       "| 2016 | 12.63 | 12.03 |\n",
       "| 2017 | 13.16 | 11.96 |\n",
       "| 2018 | 12.94 | 12.56 |\n",
       "| 2019 | 14.10 | 13.00 |\n",
       "| 2020 | 12.07 | 12.87 |\n",
       "| 2021 | 13.43 | 13.25 |\n",
       "| 2022 | 13.28 | 13.78 |\n",
       "\n"
      ],
      "text/plain": [
       "   year StreamA StreamB\n",
       "1  2007 13.20   10.20  \n",
       "2  2008 12.50      NA  \n",
       "3  2009 13.90      NA  \n",
       "4  2010 11.36   11.67  \n",
       "5  2011 12.97      NA  \n",
       "6  2012 13.10   11.10  \n",
       "7  2013 14.47   11.42  \n",
       "8  2014 13.37   11.37  \n",
       "9  2015 12.48   12.18  \n",
       "10 2016 12.63   12.03  \n",
       "11 2017 13.16   11.96  \n",
       "12 2018 12.94   12.56  \n",
       "13 2019 14.10   13.00  \n",
       "14 2020 12.07   12.87  \n",
       "15 2021 13.43   13.25  \n",
       "16 2022 13.28   13.78  "
      ]
     },
     "metadata": {},
     "output_type": "display_data"
    },
    {
     "data": {
      "text/html": [
       "<table class=\"dataframe\">\n",
       "<caption>A data.frame: 6 × 3</caption>\n",
       "<thead>\n",
       "\t<tr><th></th><th scope=col>year</th><th scope=col>StreamA</th><th scope=col>StreamB</th></tr>\n",
       "\t<tr><th></th><th scope=col>&lt;int&gt;</th><th scope=col>&lt;dbl&gt;</th><th scope=col>&lt;dbl&gt;</th></tr>\n",
       "</thead>\n",
       "<tbody>\n",
       "\t<tr><th scope=row>1</th><td>2007</td><td>7.18</td><td>  NA</td></tr>\n",
       "\t<tr><th scope=row>2</th><td>2008</td><td>7.27</td><td>8.07</td></tr>\n",
       "\t<tr><th scope=row>3</th><td>2009</td><td>7.46</td><td>7.26</td></tr>\n",
       "\t<tr><th scope=row>4</th><td>2010</td><td>7.00</td><td>  NA</td></tr>\n",
       "\t<tr><th scope=row>5</th><td>2011</td><td>6.53</td><td>  NA</td></tr>\n",
       "\t<tr><th scope=row>6</th><td>2012</td><td>7.50</td><td>9.50</td></tr>\n",
       "</tbody>\n",
       "</table>\n"
      ],
      "text/latex": [
       "A data.frame: 6 × 3\n",
       "\\begin{tabular}{r|lll}\n",
       "  & year & StreamA & StreamB\\\\\n",
       "  & <int> & <dbl> & <dbl>\\\\\n",
       "\\hline\n",
       "\t1 & 2007 & 7.18 &   NA\\\\\n",
       "\t2 & 2008 & 7.27 & 8.07\\\\\n",
       "\t3 & 2009 & 7.46 & 7.26\\\\\n",
       "\t4 & 2010 & 7.00 &   NA\\\\\n",
       "\t5 & 2011 & 6.53 &   NA\\\\\n",
       "\t6 & 2012 & 7.50 & 9.50\\\\\n",
       "\\end{tabular}\n"
      ],
      "text/markdown": [
       "\n",
       "A data.frame: 6 × 3\n",
       "\n",
       "| <!--/--> | year &lt;int&gt; | StreamA &lt;dbl&gt; | StreamB &lt;dbl&gt; |\n",
       "|---|---|---|---|\n",
       "| 1 | 2007 | 7.18 |   NA |\n",
       "| 2 | 2008 | 7.27 | 8.07 |\n",
       "| 3 | 2009 | 7.46 | 7.26 |\n",
       "| 4 | 2010 | 7.00 |   NA |\n",
       "| 5 | 2011 | 6.53 |   NA |\n",
       "| 6 | 2012 | 7.50 | 9.50 |\n",
       "\n"
      ],
      "text/plain": [
       "  year StreamA StreamB\n",
       "1 2007 7.18      NA   \n",
       "2 2008 7.27    8.07   \n",
       "3 2009 7.46    7.26   \n",
       "4 2010 7.00      NA   \n",
       "5 2011 6.53      NA   \n",
       "6 2012 7.50    9.50   "
      ]
     },
     "metadata": {},
     "output_type": "display_data"
    }
   ],
   "source": [
    "# read in stream temp data \n",
    "stream_temp <- read.csv(\"streams_temperature.csv\", header=TRUE, sep=\",\")\n",
    "\n",
    "# read in dissolved oxygen data \n",
    "stream_DO <- read.csv(\"streams_DissolvedOxygen.csv\", header=TRUE, sep=\",\")\n",
    "\n",
    "View(stream_temp)\n",
    "\n",
    "head(stream_DO)"
   ]
  },
  {
   "cell_type": "markdown",
   "id": "06a38645-45cd-4915-a542-2f635ef1614a",
   "metadata": {},
   "source": [
    "emoji **Class Questions:**\n",
    "\n",
    "- What do you notice is different between using the command “View” and the command “head”? Which one do you think is more useful?\n",
    "- Recalling the previous module, what does the `dim()` function tell us about a data frame? "
   ]
  },
  {
   "cell_type": "code",
   "execution_count": 4,
   "id": "d55912f7-c181-40c5-8b73-89f6e5d73c6d",
   "metadata": {},
   "outputs": [
    {
     "data": {
      "text/html": [
       "<style>\n",
       ".list-inline {list-style: none; margin:0; padding: 0}\n",
       ".list-inline>li {display: inline-block}\n",
       ".list-inline>li:not(:last-child)::after {content: \"\\00b7\"; padding: 0 .5ex}\n",
       "</style>\n",
       "<ol class=list-inline><li>16</li><li>3</li></ol>\n"
      ],
      "text/latex": [
       "\\begin{enumerate*}\n",
       "\\item 16\n",
       "\\item 3\n",
       "\\end{enumerate*}\n"
      ],
      "text/markdown": [
       "1. 16\n",
       "2. 3\n",
       "\n",
       "\n"
      ],
      "text/plain": [
       "[1] 16  3"
      ]
     },
     "metadata": {},
     "output_type": "display_data"
    },
    {
     "data": {
      "text/html": [
       "<style>\n",
       ".list-inline {list-style: none; margin:0; padding: 0}\n",
       ".list-inline>li {display: inline-block}\n",
       ".list-inline>li:not(:last-child)::after {content: \"\\00b7\"; padding: 0 .5ex}\n",
       "</style>\n",
       "<ol class=list-inline><li>16</li><li>3</li></ol>\n"
      ],
      "text/latex": [
       "\\begin{enumerate*}\n",
       "\\item 16\n",
       "\\item 3\n",
       "\\end{enumerate*}\n"
      ],
      "text/markdown": [
       "1. 16\n",
       "2. 3\n",
       "\n",
       "\n"
      ],
      "text/plain": [
       "[1] 16  3"
      ]
     },
     "metadata": {},
     "output_type": "display_data"
    }
   ],
   "source": [
    "dim(stream_temp)\n",
    "dim(stream_DO)"
   ]
  },
  {
   "cell_type": "markdown",
   "id": "ee265d53-eadc-4263-81ab-f4bccd71faf4",
   "metadata": {},
   "source": [
    "emoji **Class Questions:**\n",
    "\n",
    "- How many data entries are in the water temperature data set?\n",
    "- How many data entries are in the dissolved oxygen data set?\n",
    "\n",
    "## Lesson 1 Recap\n",
    "\n"
   ]
  }
 ],
 "metadata": {
  "kernelspec": {
   "display_name": "R",
   "language": "R",
   "name": "ir"
  },
  "language_info": {
   "codemirror_mode": "r",
   "file_extension": ".r",
   "mimetype": "text/x-r-source",
   "name": "R",
   "pygments_lexer": "r",
   "version": "4.2.0"
  }
 },
 "nbformat": 4,
 "nbformat_minor": 5
}
