{
 "cells": [
  {
   "cell_type": "markdown",
   "id": "15c47f34-bc58-4dab-8467-6665ac8f3144",
   "metadata": {},
   "source": [
    "# Lesson 2: Tidying and merging data \n",
    "\n",
    "As of now, our data for water temperature for Stream A and B exists in a separate data frame from the dissolved oxygen concentrations for Stream A and B. For K’avi Fish and Wildlife managers to truly understand what’s going on, they need to analyze water temperature and dissolved oxygen together. To do this, we need to change how our data is set up in each data frame and then merge these data frames together.\n",
    "\n",
    "Manipulating data so that it is formatted in a way that we can easily and reliably analyze is called “data wrangling”. In R, we like our data to be “tidy”. This means we don’t want duplicate columns for the same variable. For example, in the stream_temp dataset, we have two columns for temperature, because we have a column for the water temperature of Stream A and the water temperature of Stream B. In a “tidy” version of thus dataset, we want all the temperature values to be in the same column.\n",
    "\n",
    "If you want to learn more about tidy data, [here’s a useful website](https://cran.r-project.org/web/packages/tidyr/vignettes/tidy-data.html).\n",
    "\n",
    "## Tidying data \n",
    "\n",
    "First, we will use the `pivot_longer()` function to reorganize the columns from the temperature dataset, so that there is one column for “site” and one column for “temperature_C” The goal is to make only one column for each variable.\n",
    "\n",
    "Look back at the current “messy” version of stream_temp. Can you see that there is more than one column with the same variable?\n",
    "\n",
    "The `pivot_longer()` function allows us to combine columns, which transforms our dataset into a form with more rows (longer), and fewer columns (less wide). Long form data makes it easier to summarize data and look at trends over time, which allows the tidyverse package to work better.\n",
    "\n",
    "Here is a visual example: \n",
    "\n",
    "In the code chunk below, we use `pivot_longer()` to transform the temperature data. The #comments describe what each line of code does."
   ]
  },
  {
   "cell_type": "code",
   "execution_count": 2,
   "id": "6fe6ae6b-8f1e-4029-ae9c-74e27590a4c5",
   "metadata": {},
   "outputs": [
    {
     "name": "stderr",
     "output_type": "stream",
     "text": [
      "── \u001b[1mAttaching packages\u001b[22m ─────────────────────────────────────── tidyverse 1.3.1 ──\n",
      "\n",
      "\u001b[32m✔\u001b[39m \u001b[34mggplot2\u001b[39m 3.5.1     \u001b[32m✔\u001b[39m \u001b[34mpurrr  \u001b[39m 1.0.2\n",
      "\u001b[32m✔\u001b[39m \u001b[34mtibble \u001b[39m 3.2.1     \u001b[32m✔\u001b[39m \u001b[34mdplyr  \u001b[39m 1.1.4\n",
      "\u001b[32m✔\u001b[39m \u001b[34mtidyr  \u001b[39m 1.3.1     \u001b[32m✔\u001b[39m \u001b[34mstringr\u001b[39m 1.5.1\n",
      "\u001b[32m✔\u001b[39m \u001b[34mreadr  \u001b[39m 2.1.2     \u001b[32m✔\u001b[39m \u001b[34mforcats\u001b[39m 0.5.1\n",
      "\n",
      "── \u001b[1mConflicts\u001b[22m ────────────────────────────────────────── tidyverse_conflicts() ──\n",
      "\u001b[31m✖\u001b[39m \u001b[34mdplyr\u001b[39m::\u001b[32mfilter()\u001b[39m masks \u001b[34mstats\u001b[39m::filter()\n",
      "\u001b[31m✖\u001b[39m \u001b[34mdplyr\u001b[39m::\u001b[32mlag()\u001b[39m    masks \u001b[34mstats\u001b[39m::lag()\n",
      "\n"
     ]
    }
   ],
   "source": [
    "library(tidyverse)\n",
    "# read in stream temp data \n",
    "stream_temp <- read.csv(\"streams_temperature.csv\", header=TRUE, sep=\",\")\n",
    "# read in dissolved oxygen data \n",
    "stream_DO <- read.csv(\"streams_DissolvedOxygen.csv\", header=TRUE, sep=\",\")"
   ]
  },
  {
   "cell_type": "code",
   "execution_count": 3,
   "id": "530d4c19-19a0-4f59-8343-070e6513fc4f",
   "metadata": {},
   "outputs": [
    {
     "data": {
      "text/html": [
       "<table class=\"dataframe\">\n",
       "<caption>A tibble: 6 × 3</caption>\n",
       "<thead>\n",
       "\t<tr><th scope=col>year</th><th scope=col>site</th><th scope=col>temperature_C</th></tr>\n",
       "\t<tr><th scope=col>&lt;int&gt;</th><th scope=col>&lt;chr&gt;</th><th scope=col>&lt;dbl&gt;</th></tr>\n",
       "</thead>\n",
       "<tbody>\n",
       "\t<tr><td>2007</td><td>StreamA</td><td>13.2</td></tr>\n",
       "\t<tr><td>2007</td><td>StreamB</td><td>10.2</td></tr>\n",
       "\t<tr><td>2008</td><td>StreamA</td><td>12.5</td></tr>\n",
       "\t<tr><td>2008</td><td>StreamB</td><td>  NA</td></tr>\n",
       "\t<tr><td>2009</td><td>StreamA</td><td>13.9</td></tr>\n",
       "\t<tr><td>2009</td><td>StreamB</td><td>  NA</td></tr>\n",
       "</tbody>\n",
       "</table>\n"
      ],
      "text/latex": [
       "A tibble: 6 × 3\n",
       "\\begin{tabular}{lll}\n",
       " year & site & temperature\\_C\\\\\n",
       " <int> & <chr> & <dbl>\\\\\n",
       "\\hline\n",
       "\t 2007 & StreamA & 13.2\\\\\n",
       "\t 2007 & StreamB & 10.2\\\\\n",
       "\t 2008 & StreamA & 12.5\\\\\n",
       "\t 2008 & StreamB &   NA\\\\\n",
       "\t 2009 & StreamA & 13.9\\\\\n",
       "\t 2009 & StreamB &   NA\\\\\n",
       "\\end{tabular}\n"
      ],
      "text/markdown": [
       "\n",
       "A tibble: 6 × 3\n",
       "\n",
       "| year &lt;int&gt; | site &lt;chr&gt; | temperature_C &lt;dbl&gt; |\n",
       "|---|---|---|\n",
       "| 2007 | StreamA | 13.2 |\n",
       "| 2007 | StreamB | 10.2 |\n",
       "| 2008 | StreamA | 12.5 |\n",
       "| 2008 | StreamB |   NA |\n",
       "| 2009 | StreamA | 13.9 |\n",
       "| 2009 | StreamB |   NA |\n",
       "\n"
      ],
      "text/plain": [
       "  year site    temperature_C\n",
       "1 2007 StreamA 13.2         \n",
       "2 2007 StreamB 10.2         \n",
       "3 2008 StreamA 12.5         \n",
       "4 2008 StreamB   NA         \n",
       "5 2009 StreamA 13.9         \n",
       "6 2009 StreamB   NA         "
      ]
     },
     "metadata": {},
     "output_type": "display_data"
    }
   ],
   "source": [
    "# The first line of code tells R that we want to re-define \n",
    "# the streams_temp dataset with the changes we make below. \n",
    "# This weird thing %>% is called the \"pipe\". It says that the code lines that come next, \n",
    "# which are linked by a \"+\" at the end of each line,\n",
    "# will all contribute to a transfomed version of stream_temp. \n",
    "\n",
    "stream_temp <- stream_temp %>%  \n",
    "# We use the pivot_longer code to tell R which columns we want to change.\n",
    "  pivot_longer( \n",
    "    #cols = tells R which columns we want to modify\n",
    "    cols = c(StreamA, StreamB), \n",
    "    # names_to tells R that we want the names of the columns we specified \n",
    "    # above to be entries in a new column we're creating called \"site\". \n",
    "    names_to = \"site\", \n",
    "    # Question: Based on what \"names_to\" means, what do you think the next line \n",
    "    # of code values_to means? \n",
    "    # (Hint - searching the internet for the answer is a great way to figure this out.)\n",
    "    # Looking things up online is a huge part of coding!\n",
    "    values_to = \"temperature_C\" \n",
    "  )\n",
    "\n",
    "head(stream_temp)"
   ]
  },
  {
   "cell_type": "markdown",
   "id": "5aad7779-34ea-4558-83ad-a60768e7767b",
   "metadata": {},
   "source": [
    "Great! Our code worked. Now let’s do the same for the dissolved oxygen data set.We want to change it in the same way we changed the temperature data set above.\n",
    "\n",
    "HOWEVER, this time some chunks of code have been left blank. See if you can fill them in based on what you saw in the example above!"
   ]
  },
  {
   "cell_type": "code",
   "execution_count": 6,
   "id": "81a9df44-5b96-4709-be7c-6832047cc773",
   "metadata": {},
   "outputs": [],
   "source": [
    "stream_DO <- stream_DO %>%  \n",
    "# We use the pivot_longer code to tell R which columns we want to change.\n",
    "  pivot_longer( \n",
    "    # [FILL THIS IN]\n",
    "    cols = c(StreamA, StreamB), \n",
    "    # names_to tells R that we want the names of the columns we specified \n",
    "    # above to be entries in a new column we're creating called \"site\". \n",
    "    names_to = \"site\", \n",
    "    values_to = \"dissolved_oxygen\" \n",
    "  )\n"
   ]
  },
  {
   "cell_type": "markdown",
   "id": "9c194ea0-2d68-4621-9217-62a9a85ae92f",
   "metadata": {},
   "source": [
    "Again, we should check our work to make sure that our data looks the way we want it to. We want there to be three columns, one for the year the sample was collected, one for the site name, and one for the dissolved oxygen values (mg/L)."
   ]
  },
  {
   "cell_type": "code",
   "execution_count": null,
   "id": "5b0cf9b1-af50-4d3e-b055-f7147a7af57b",
   "metadata": {},
   "outputs": [],
   "source": [
    "print(stream_DO)"
   ]
  },
  {
   "cell_type": "markdown",
   "id": "f2c66e9e-fe8a-45ea-8eea-f612b7b71d2c",
   "metadata": {},
   "source": [
    "The data frame is now in a 'tidy' format because it has a single observation per row, with one column of the 'site' and one of the 'dissolved oxygen' that contains the observation values. \n",
    "\n",
    "## Merging data frames \n",
    "\n",
    "So far, we have separate dataframes for temperature and DO. We want to combine them into one tidy dataframe, so we can analyze trends in temperature and dissolved oxygen at the same time for both streams.\n",
    "\n",
    "To do this, we will use a command in tidyverse called full_join(), from the join commands. Full join means we want to combine two data frames. We want to match up the rows in the first data frame with the second data frame based on a matching key that the two have in common - in our case the year and site. [See more on the join commands here](https://dplyr.tidyverse.org/reference/mutate-joins.html#inner-join).\n",
    "\n",
    "The format for joining is: `left_join(dataframe1, dataframe2, by=c(columns they have in common))`\n",
    "\n"
   ]
  },
  {
   "cell_type": "code",
   "execution_count": 7,
   "id": "fab7d856-18a8-49a9-8b32-78d1b8efde1f",
   "metadata": {},
   "outputs": [
    {
     "data": {
      "text/html": [
       "<table class=\"dataframe\">\n",
       "<caption>A tibble: 6 × 4</caption>\n",
       "<thead>\n",
       "\t<tr><th scope=col>year</th><th scope=col>site</th><th scope=col>temperature_C</th><th scope=col>dissolved_oxygen</th></tr>\n",
       "\t<tr><th scope=col>&lt;int&gt;</th><th scope=col>&lt;chr&gt;</th><th scope=col>&lt;dbl&gt;</th><th scope=col>&lt;dbl&gt;</th></tr>\n",
       "</thead>\n",
       "<tbody>\n",
       "\t<tr><td>2007</td><td>StreamA</td><td>13.2</td><td>7.18</td></tr>\n",
       "\t<tr><td>2007</td><td>StreamB</td><td>10.2</td><td>  NA</td></tr>\n",
       "\t<tr><td>2008</td><td>StreamA</td><td>12.5</td><td>7.27</td></tr>\n",
       "\t<tr><td>2008</td><td>StreamB</td><td>  NA</td><td>8.07</td></tr>\n",
       "\t<tr><td>2009</td><td>StreamA</td><td>13.9</td><td>7.46</td></tr>\n",
       "\t<tr><td>2009</td><td>StreamB</td><td>  NA</td><td>7.26</td></tr>\n",
       "</tbody>\n",
       "</table>\n"
      ],
      "text/latex": [
       "A tibble: 6 × 4\n",
       "\\begin{tabular}{llll}\n",
       " year & site & temperature\\_C & dissolved\\_oxygen\\\\\n",
       " <int> & <chr> & <dbl> & <dbl>\\\\\n",
       "\\hline\n",
       "\t 2007 & StreamA & 13.2 & 7.18\\\\\n",
       "\t 2007 & StreamB & 10.2 &   NA\\\\\n",
       "\t 2008 & StreamA & 12.5 & 7.27\\\\\n",
       "\t 2008 & StreamB &   NA & 8.07\\\\\n",
       "\t 2009 & StreamA & 13.9 & 7.46\\\\\n",
       "\t 2009 & StreamB &   NA & 7.26\\\\\n",
       "\\end{tabular}\n"
      ],
      "text/markdown": [
       "\n",
       "A tibble: 6 × 4\n",
       "\n",
       "| year &lt;int&gt; | site &lt;chr&gt; | temperature_C &lt;dbl&gt; | dissolved_oxygen &lt;dbl&gt; |\n",
       "|---|---|---|---|\n",
       "| 2007 | StreamA | 13.2 | 7.18 |\n",
       "| 2007 | StreamB | 10.2 |   NA |\n",
       "| 2008 | StreamA | 12.5 | 7.27 |\n",
       "| 2008 | StreamB |   NA | 8.07 |\n",
       "| 2009 | StreamA | 13.9 | 7.46 |\n",
       "| 2009 | StreamB |   NA | 7.26 |\n",
       "\n"
      ],
      "text/plain": [
       "  year site    temperature_C dissolved_oxygen\n",
       "1 2007 StreamA 13.2          7.18            \n",
       "2 2007 StreamB 10.2            NA            \n",
       "3 2008 StreamA 12.5          7.27            \n",
       "4 2008 StreamB   NA          8.07            \n",
       "5 2009 StreamA 13.9          7.46            \n",
       "6 2009 StreamB   NA          7.26            "
      ]
     },
     "metadata": {},
     "output_type": "display_data"
    }
   ],
   "source": [
    "# Here, we are using full_join to put the streams_temp data frame next to the streams_DO data frame.\n",
    "streams <- full_join(stream_temp, stream_DO, by=c(\"year\",\"site\"))\n",
    "\n",
    "# preview what our new data frame looks like \n",
    "head(streams)"
   ]
  },
  {
   "cell_type": "markdown",
   "id": "fbc4a9da-0be6-4b07-b93f-abd3e96c4cf1",
   "metadata": {},
   "source": [
    "Great job data wrangling! We now have a single tidy dataframe that we can use to analyze water quality and determine which stream is best for introducing bull trout to tribal land.\n",
    "\n",
    "## Lesson 2 Recap:"
   ]
  }
 ],
 "metadata": {
  "kernelspec": {
   "display_name": "R",
   "language": "R",
   "name": "ir"
  },
  "language_info": {
   "codemirror_mode": "r",
   "file_extension": ".r",
   "mimetype": "text/x-r-source",
   "name": "R",
   "pygments_lexer": "r",
   "version": "4.2.0"
  }
 },
 "nbformat": 4,
 "nbformat_minor": 5
}
