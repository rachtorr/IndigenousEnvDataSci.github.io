{
 "cells": [
  {
   "cell_type": "markdown",
   "id": "3b42ae5d-2816-4441-8a4b-a3c4a511c9be",
   "metadata": {},
   "source": [
    "# Lesson 2.3: Descriptive statistics and summarizing by group \n",
    "\n",
    "We know that bull trout prefer cold clean water. Temperatures above 14 degrees C and dissolved oxygen levels below 6.2 mg/L tend to be bad for bull trout, though these are only general approximations and the healthiness of stream water for bull trout depends on many factors.\n",
    "\n",
    "We’ll start our analysis of water quality by using the statistical summary commands that will be familiar from Module 1. First, we’ll calculate the mean (or average) water temperature."
   ]
  },
  {
   "cell_type": "code",
   "execution_count": 2,
   "id": "c697ac0a-9e25-425f-9595-d76ca8e9d520",
   "metadata": {
    "vscode": {
     "languageId": "r"
    }
   },
   "outputs": [
    {
     "name": "stderr",
     "output_type": "stream",
     "text": [
      "Loading required package: tidyverse\n",
      "\n",
      "── \u001b[1mAttaching core tidyverse packages\u001b[22m ──────────────────────────────────────────────────────────────── tidyverse 2.0.0 ──\n",
      "\u001b[32m✔\u001b[39m \u001b[34mdplyr    \u001b[39m 1.1.4     \u001b[32m✔\u001b[39m \u001b[34mreadr    \u001b[39m 2.1.5\n",
      "\u001b[32m✔\u001b[39m \u001b[34mforcats  \u001b[39m 1.0.0     \u001b[32m✔\u001b[39m \u001b[34mstringr  \u001b[39m 1.5.1\n",
      "\u001b[32m✔\u001b[39m \u001b[34mggplot2  \u001b[39m 3.5.2     \u001b[32m✔\u001b[39m \u001b[34mtibble   \u001b[39m 3.2.1\n",
      "\u001b[32m✔\u001b[39m \u001b[34mlubridate\u001b[39m 1.9.4     \u001b[32m✔\u001b[39m \u001b[34mtidyr    \u001b[39m 1.3.1\n",
      "\u001b[32m✔\u001b[39m \u001b[34mpurrr    \u001b[39m 1.0.4     \n",
      "── \u001b[1mConflicts\u001b[22m ────────────────────────────────────────────────────────────────────────────────── tidyverse_conflicts() ──\n",
      "\u001b[31m✖\u001b[39m \u001b[34mdplyr\u001b[39m::\u001b[32mfilter()\u001b[39m masks \u001b[34mstats\u001b[39m::filter()\n",
      "\u001b[31m✖\u001b[39m \u001b[34mdplyr\u001b[39m::\u001b[32mlag()\u001b[39m    masks \u001b[34mstats\u001b[39m::lag()\n",
      "\u001b[36mℹ\u001b[39m Use the conflicted package (\u001b[3m\u001b[34m<http://conflicted.r-lib.org/>\u001b[39m\u001b[23m) to force all conflicts to become errors\n"
     ]
    }
   ],
   "source": [
    "# Load packages \n",
    "if(!require(\"tidyverse\")) install.packages(\"tidyverse\")\n",
    "library(tidyverse)\n",
    "\n",
    "# if running in google colab, uncomment and use the following line:\n",
    "# streams <- read.csv(\"https://raw.githubusercontent.com/rachtorr/IndigenousEnvDataSci.github.io/refs/heads/main/MOD2/streams_data.csv\")\n",
    "\n",
    "# read in stream temp and DO combined data \n",
    "streams <- read.csv(\"streams_data.csv\")"
   ]
  },
  {
   "cell_type": "code",
   "execution_count": 3,
   "id": "fc3c9df8-af87-4018-ae6d-db1fb1279486",
   "metadata": {
    "vscode": {
     "languageId": "r"
    }
   },
   "outputs": [
    {
     "data": {
      "text/html": [
       "&lt;NA&gt;"
      ],
      "text/latex": [
       "<NA>"
      ],
      "text/markdown": [
       "&lt;NA&gt;"
      ],
      "text/plain": [
       "[1] NA"
      ]
     },
     "metadata": {},
     "output_type": "display_data"
    }
   ],
   "source": [
    "mean(streams$temperature_C)"
   ]
  },
  {
   "cell_type": "markdown",
   "id": "95584965-913d-47fa-a9d0-9fd7ae8eda22",
   "metadata": {},
   "source": [
    "## Dealing with NAs\n",
    "\n",
    "Ah! Our code didn’t work. R gave us an `<NA>` instead of a number. Not getting an expected output, or even error messages, are a normal part of programming. Although they might seem surprising or frustrating, you can think about them as a challenge for you to figure out.\n",
    "\n",
    "Here, R is telling you that the dataset has missing data, which is indicated in R by the `NA`, which means “not available”. As you may have already noticed when looking at the “streams” dataset, you’ll see that there are, indeed, some NA values.\n",
    "\n",
    "It is very common to have missing data in datasets. Sometimes the data contains NAs in them by the scientists that entered the data (as in our case), but R will also enter NA in a row if there was no data there to begin with (it was left blank when the data was collected).\n",
    "\n",
    "The reason this causes R to output `<NA>` is because the command `mean()` assumes that there are actual numbers in each cell that R is computing the mean of. R is telling you that it doesn’t know how to calculate the value of something called “NA”.\n",
    "\n",
    "In the next section, we’ll go over some easy ways to fix this problem in our “streams” data set by telling R to ignore the NAs.\n",
    "\n",
    "The command `na.omit()` deletes any row that has NAs in it. The code below doesn’t change the streams dataset, it just prints streams without any rows that have NAs."
   ]
  },
  {
   "cell_type": "code",
   "execution_count": 4,
   "id": "6fc88f01-8e11-4187-a195-a0117e696439",
   "metadata": {
    "vscode": {
     "languageId": "r"
    }
   },
   "outputs": [
    {
     "data": {
      "text/html": [
       "<table class=\"dataframe\">\n",
       "<caption>A data.frame: 27 × 4</caption>\n",
       "<thead>\n",
       "\t<tr><th></th><th scope=col>year</th><th scope=col>site</th><th scope=col>temperature_C</th><th scope=col>dissolved_oxygen</th></tr>\n",
       "\t<tr><th></th><th scope=col>&lt;int&gt;</th><th scope=col>&lt;chr&gt;</th><th scope=col>&lt;dbl&gt;</th><th scope=col>&lt;dbl&gt;</th></tr>\n",
       "</thead>\n",
       "<tbody>\n",
       "\t<tr><th scope=row>1</th><td>2007</td><td>StreamA</td><td>13.20</td><td>7.18</td></tr>\n",
       "\t<tr><th scope=row>3</th><td>2008</td><td>StreamA</td><td>12.50</td><td>7.27</td></tr>\n",
       "\t<tr><th scope=row>5</th><td>2009</td><td>StreamA</td><td>13.90</td><td>7.46</td></tr>\n",
       "\t<tr><th scope=row>7</th><td>2010</td><td>StreamA</td><td>11.36</td><td>7.00</td></tr>\n",
       "\t<tr><th scope=row>9</th><td>2011</td><td>StreamA</td><td>12.97</td><td>6.53</td></tr>\n",
       "\t<tr><th scope=row>11</th><td>2012</td><td>StreamA</td><td>13.10</td><td>7.50</td></tr>\n",
       "\t<tr><th scope=row>12</th><td>2012</td><td>StreamB</td><td>11.10</td><td>9.50</td></tr>\n",
       "\t<tr><th scope=row>13</th><td>2013</td><td>StreamA</td><td>14.47</td><td>6.16</td></tr>\n",
       "\t<tr><th scope=row>14</th><td>2013</td><td>StreamB</td><td>11.42</td><td>8.78</td></tr>\n",
       "\t<tr><th scope=row>15</th><td>2014</td><td>StreamA</td><td>13.37</td><td>7.05</td></tr>\n",
       "\t<tr><th scope=row>16</th><td>2014</td><td>StreamB</td><td>11.37</td><td>8.35</td></tr>\n",
       "\t<tr><th scope=row>17</th><td>2015</td><td>StreamA</td><td>12.48</td><td>7.34</td></tr>\n",
       "\t<tr><th scope=row>18</th><td>2015</td><td>StreamB</td><td>12.18</td><td>8.44</td></tr>\n",
       "\t<tr><th scope=row>19</th><td>2016</td><td>StreamA</td><td>12.63</td><td>6.15</td></tr>\n",
       "\t<tr><th scope=row>20</th><td>2016</td><td>StreamB</td><td>12.03</td><td>8.23</td></tr>\n",
       "\t<tr><th scope=row>21</th><td>2017</td><td>StreamA</td><td>13.16</td><td>6.89</td></tr>\n",
       "\t<tr><th scope=row>22</th><td>2017</td><td>StreamB</td><td>11.96</td><td>8.28</td></tr>\n",
       "\t<tr><th scope=row>23</th><td>2018</td><td>StreamA</td><td>12.94</td><td>6.03</td></tr>\n",
       "\t<tr><th scope=row>24</th><td>2018</td><td>StreamB</td><td>12.56</td><td>7.83</td></tr>\n",
       "\t<tr><th scope=row>25</th><td>2019</td><td>StreamA</td><td>14.10</td><td>7.26</td></tr>\n",
       "\t<tr><th scope=row>26</th><td>2019</td><td>StreamB</td><td>13.00</td><td>7.01</td></tr>\n",
       "\t<tr><th scope=row>27</th><td>2020</td><td>StreamA</td><td>12.07</td><td>7.53</td></tr>\n",
       "\t<tr><th scope=row>28</th><td>2020</td><td>StreamB</td><td>12.87</td><td>7.30</td></tr>\n",
       "\t<tr><th scope=row>29</th><td>2021</td><td>StreamA</td><td>13.43</td><td>7.02</td></tr>\n",
       "\t<tr><th scope=row>30</th><td>2021</td><td>StreamB</td><td>13.25</td><td>7.42</td></tr>\n",
       "\t<tr><th scope=row>31</th><td>2022</td><td>StreamA</td><td>13.28</td><td>6.32</td></tr>\n",
       "\t<tr><th scope=row>32</th><td>2022</td><td>StreamB</td><td>13.78</td><td>6.63</td></tr>\n",
       "</tbody>\n",
       "</table>\n"
      ],
      "text/latex": [
       "A data.frame: 27 × 4\n",
       "\\begin{tabular}{r|llll}\n",
       "  & year & site & temperature\\_C & dissolved\\_oxygen\\\\\n",
       "  & <int> & <chr> & <dbl> & <dbl>\\\\\n",
       "\\hline\n",
       "\t1 & 2007 & StreamA & 13.20 & 7.18\\\\\n",
       "\t3 & 2008 & StreamA & 12.50 & 7.27\\\\\n",
       "\t5 & 2009 & StreamA & 13.90 & 7.46\\\\\n",
       "\t7 & 2010 & StreamA & 11.36 & 7.00\\\\\n",
       "\t9 & 2011 & StreamA & 12.97 & 6.53\\\\\n",
       "\t11 & 2012 & StreamA & 13.10 & 7.50\\\\\n",
       "\t12 & 2012 & StreamB & 11.10 & 9.50\\\\\n",
       "\t13 & 2013 & StreamA & 14.47 & 6.16\\\\\n",
       "\t14 & 2013 & StreamB & 11.42 & 8.78\\\\\n",
       "\t15 & 2014 & StreamA & 13.37 & 7.05\\\\\n",
       "\t16 & 2014 & StreamB & 11.37 & 8.35\\\\\n",
       "\t17 & 2015 & StreamA & 12.48 & 7.34\\\\\n",
       "\t18 & 2015 & StreamB & 12.18 & 8.44\\\\\n",
       "\t19 & 2016 & StreamA & 12.63 & 6.15\\\\\n",
       "\t20 & 2016 & StreamB & 12.03 & 8.23\\\\\n",
       "\t21 & 2017 & StreamA & 13.16 & 6.89\\\\\n",
       "\t22 & 2017 & StreamB & 11.96 & 8.28\\\\\n",
       "\t23 & 2018 & StreamA & 12.94 & 6.03\\\\\n",
       "\t24 & 2018 & StreamB & 12.56 & 7.83\\\\\n",
       "\t25 & 2019 & StreamA & 14.10 & 7.26\\\\\n",
       "\t26 & 2019 & StreamB & 13.00 & 7.01\\\\\n",
       "\t27 & 2020 & StreamA & 12.07 & 7.53\\\\\n",
       "\t28 & 2020 & StreamB & 12.87 & 7.30\\\\\n",
       "\t29 & 2021 & StreamA & 13.43 & 7.02\\\\\n",
       "\t30 & 2021 & StreamB & 13.25 & 7.42\\\\\n",
       "\t31 & 2022 & StreamA & 13.28 & 6.32\\\\\n",
       "\t32 & 2022 & StreamB & 13.78 & 6.63\\\\\n",
       "\\end{tabular}\n"
      ],
      "text/markdown": [
       "\n",
       "A data.frame: 27 × 4\n",
       "\n",
       "| <!--/--> | year &lt;int&gt; | site &lt;chr&gt; | temperature_C &lt;dbl&gt; | dissolved_oxygen &lt;dbl&gt; |\n",
       "|---|---|---|---|---|\n",
       "| 1 | 2007 | StreamA | 13.20 | 7.18 |\n",
       "| 3 | 2008 | StreamA | 12.50 | 7.27 |\n",
       "| 5 | 2009 | StreamA | 13.90 | 7.46 |\n",
       "| 7 | 2010 | StreamA | 11.36 | 7.00 |\n",
       "| 9 | 2011 | StreamA | 12.97 | 6.53 |\n",
       "| 11 | 2012 | StreamA | 13.10 | 7.50 |\n",
       "| 12 | 2012 | StreamB | 11.10 | 9.50 |\n",
       "| 13 | 2013 | StreamA | 14.47 | 6.16 |\n",
       "| 14 | 2013 | StreamB | 11.42 | 8.78 |\n",
       "| 15 | 2014 | StreamA | 13.37 | 7.05 |\n",
       "| 16 | 2014 | StreamB | 11.37 | 8.35 |\n",
       "| 17 | 2015 | StreamA | 12.48 | 7.34 |\n",
       "| 18 | 2015 | StreamB | 12.18 | 8.44 |\n",
       "| 19 | 2016 | StreamA | 12.63 | 6.15 |\n",
       "| 20 | 2016 | StreamB | 12.03 | 8.23 |\n",
       "| 21 | 2017 | StreamA | 13.16 | 6.89 |\n",
       "| 22 | 2017 | StreamB | 11.96 | 8.28 |\n",
       "| 23 | 2018 | StreamA | 12.94 | 6.03 |\n",
       "| 24 | 2018 | StreamB | 12.56 | 7.83 |\n",
       "| 25 | 2019 | StreamA | 14.10 | 7.26 |\n",
       "| 26 | 2019 | StreamB | 13.00 | 7.01 |\n",
       "| 27 | 2020 | StreamA | 12.07 | 7.53 |\n",
       "| 28 | 2020 | StreamB | 12.87 | 7.30 |\n",
       "| 29 | 2021 | StreamA | 13.43 | 7.02 |\n",
       "| 30 | 2021 | StreamB | 13.25 | 7.42 |\n",
       "| 31 | 2022 | StreamA | 13.28 | 6.32 |\n",
       "| 32 | 2022 | StreamB | 13.78 | 6.63 |\n",
       "\n"
      ],
      "text/plain": [
       "   year site    temperature_C dissolved_oxygen\n",
       "1  2007 StreamA 13.20         7.18            \n",
       "3  2008 StreamA 12.50         7.27            \n",
       "5  2009 StreamA 13.90         7.46            \n",
       "7  2010 StreamA 11.36         7.00            \n",
       "9  2011 StreamA 12.97         6.53            \n",
       "11 2012 StreamA 13.10         7.50            \n",
       "12 2012 StreamB 11.10         9.50            \n",
       "13 2013 StreamA 14.47         6.16            \n",
       "14 2013 StreamB 11.42         8.78            \n",
       "15 2014 StreamA 13.37         7.05            \n",
       "16 2014 StreamB 11.37         8.35            \n",
       "17 2015 StreamA 12.48         7.34            \n",
       "18 2015 StreamB 12.18         8.44            \n",
       "19 2016 StreamA 12.63         6.15            \n",
       "20 2016 StreamB 12.03         8.23            \n",
       "21 2017 StreamA 13.16         6.89            \n",
       "22 2017 StreamB 11.96         8.28            \n",
       "23 2018 StreamA 12.94         6.03            \n",
       "24 2018 StreamB 12.56         7.83            \n",
       "25 2019 StreamA 14.10         7.26            \n",
       "26 2019 StreamB 13.00         7.01            \n",
       "27 2020 StreamA 12.07         7.53            \n",
       "28 2020 StreamB 12.87         7.30            \n",
       "29 2021 StreamA 13.43         7.02            \n",
       "30 2021 StreamB 13.25         7.42            \n",
       "31 2022 StreamA 13.28         6.32            \n",
       "32 2022 StreamB 13.78         6.63            "
      ]
     },
     "metadata": {},
     "output_type": "display_data"
    }
   ],
   "source": [
    "na.omit(streams)"
   ]
  },
  {
   "cell_type": "markdown",
   "id": "97844dd9-1c94-4594-927e-f516ee0b535a",
   "metadata": {},
   "source": [
    "Great! Now let’s try to run our command to get the mean for temperature again. We don’t want to remove these rows from the streams data permanently, so we’ll nest the `na.omit()` command within the `mean()` command, allowing us to calculate the mean of all the temperatures for both streams."
   ]
  },
  {
   "cell_type": "code",
   "execution_count": 5,
   "id": "7dd7c315-117c-4182-8bee-ea2f287d36dc",
   "metadata": {
    "vscode": {
     "languageId": "r"
    }
   },
   "outputs": [
    {
     "data": {
      "text/html": [
       "12.6327586206897"
      ],
      "text/latex": [
       "12.6327586206897"
      ],
      "text/markdown": [
       "12.6327586206897"
      ],
      "text/plain": [
       "[1] 12.63276"
      ]
     },
     "metadata": {},
     "output_type": "display_data"
    }
   ],
   "source": [
    "mean(na.omit(streams$temperature_C))"
   ]
  },
  {
   "cell_type": "markdown",
   "id": "9f14dc7c-62e2-46e9-8df7-9e11c1b66540",
   "metadata": {},
   "source": [
    "Our code worked! Now you’ve learned how to handle NAs in a dataset in R. Let’s carry on with our summary statistics.\n",
    "\n",
    "💻 **Your turn!** How would you figure out what the mean amount of dissolved oxygen is in the water across both streams? "
   ]
  },
  {
   "cell_type": "code",
   "execution_count": 9,
   "id": "c5b6afd3-f11b-4356-a084-055d24353196",
   "metadata": {
    "vscode": {
     "languageId": "r"
    }
   },
   "outputs": [
    {
     "data": {
      "text/html": [
       "<table class=\"dataframe\">\n",
       "<caption>A data.frame: 32 × 4</caption>\n",
       "<thead>\n",
       "\t<tr><th scope=col>year</th><th scope=col>site</th><th scope=col>temperature_C</th><th scope=col>dissolved_oxygen</th></tr>\n",
       "\t<tr><th scope=col>&lt;int&gt;</th><th scope=col>&lt;chr&gt;</th><th scope=col>&lt;dbl&gt;</th><th scope=col>&lt;dbl&gt;</th></tr>\n",
       "</thead>\n",
       "<tbody>\n",
       "\t<tr><td>2007</td><td>StreamA</td><td>13.20</td><td>7.18</td></tr>\n",
       "\t<tr><td>2007</td><td>StreamB</td><td>10.20</td><td>  NA</td></tr>\n",
       "\t<tr><td>2008</td><td>StreamA</td><td>12.50</td><td>7.27</td></tr>\n",
       "\t<tr><td>2008</td><td>StreamB</td><td>   NA</td><td>8.07</td></tr>\n",
       "\t<tr><td>2009</td><td>StreamA</td><td>13.90</td><td>7.46</td></tr>\n",
       "\t<tr><td>2009</td><td>StreamB</td><td>   NA</td><td>7.26</td></tr>\n",
       "\t<tr><td>2010</td><td>StreamA</td><td>11.36</td><td>7.00</td></tr>\n",
       "\t<tr><td>2010</td><td>StreamB</td><td>11.67</td><td>  NA</td></tr>\n",
       "\t<tr><td>2011</td><td>StreamA</td><td>12.97</td><td>6.53</td></tr>\n",
       "\t<tr><td>2011</td><td>StreamB</td><td>   NA</td><td>  NA</td></tr>\n",
       "\t<tr><td>2012</td><td>StreamA</td><td>13.10</td><td>7.50</td></tr>\n",
       "\t<tr><td>2012</td><td>StreamB</td><td>11.10</td><td>9.50</td></tr>\n",
       "\t<tr><td>2013</td><td>StreamA</td><td>14.47</td><td>6.16</td></tr>\n",
       "\t<tr><td>2013</td><td>StreamB</td><td>11.42</td><td>8.78</td></tr>\n",
       "\t<tr><td>2014</td><td>StreamA</td><td>13.37</td><td>7.05</td></tr>\n",
       "\t<tr><td>2014</td><td>StreamB</td><td>11.37</td><td>8.35</td></tr>\n",
       "\t<tr><td>2015</td><td>StreamA</td><td>12.48</td><td>7.34</td></tr>\n",
       "\t<tr><td>2015</td><td>StreamB</td><td>12.18</td><td>8.44</td></tr>\n",
       "\t<tr><td>2016</td><td>StreamA</td><td>12.63</td><td>6.15</td></tr>\n",
       "\t<tr><td>2016</td><td>StreamB</td><td>12.03</td><td>8.23</td></tr>\n",
       "\t<tr><td>2017</td><td>StreamA</td><td>13.16</td><td>6.89</td></tr>\n",
       "\t<tr><td>2017</td><td>StreamB</td><td>11.96</td><td>8.28</td></tr>\n",
       "\t<tr><td>2018</td><td>StreamA</td><td>12.94</td><td>6.03</td></tr>\n",
       "\t<tr><td>2018</td><td>StreamB</td><td>12.56</td><td>7.83</td></tr>\n",
       "\t<tr><td>2019</td><td>StreamA</td><td>14.10</td><td>7.26</td></tr>\n",
       "\t<tr><td>2019</td><td>StreamB</td><td>13.00</td><td>7.01</td></tr>\n",
       "\t<tr><td>2020</td><td>StreamA</td><td>12.07</td><td>7.53</td></tr>\n",
       "\t<tr><td>2020</td><td>StreamB</td><td>12.87</td><td>7.30</td></tr>\n",
       "\t<tr><td>2021</td><td>StreamA</td><td>13.43</td><td>7.02</td></tr>\n",
       "\t<tr><td>2021</td><td>StreamB</td><td>13.25</td><td>7.42</td></tr>\n",
       "\t<tr><td>2022</td><td>StreamA</td><td>13.28</td><td>6.32</td></tr>\n",
       "\t<tr><td>2022</td><td>StreamB</td><td>13.78</td><td>6.63</td></tr>\n",
       "</tbody>\n",
       "</table>\n"
      ],
      "text/latex": [
       "A data.frame: 32 × 4\n",
       "\\begin{tabular}{llll}\n",
       " year & site & temperature\\_C & dissolved\\_oxygen\\\\\n",
       " <int> & <chr> & <dbl> & <dbl>\\\\\n",
       "\\hline\n",
       "\t 2007 & StreamA & 13.20 & 7.18\\\\\n",
       "\t 2007 & StreamB & 10.20 &   NA\\\\\n",
       "\t 2008 & StreamA & 12.50 & 7.27\\\\\n",
       "\t 2008 & StreamB &    NA & 8.07\\\\\n",
       "\t 2009 & StreamA & 13.90 & 7.46\\\\\n",
       "\t 2009 & StreamB &    NA & 7.26\\\\\n",
       "\t 2010 & StreamA & 11.36 & 7.00\\\\\n",
       "\t 2010 & StreamB & 11.67 &   NA\\\\\n",
       "\t 2011 & StreamA & 12.97 & 6.53\\\\\n",
       "\t 2011 & StreamB &    NA &   NA\\\\\n",
       "\t 2012 & StreamA & 13.10 & 7.50\\\\\n",
       "\t 2012 & StreamB & 11.10 & 9.50\\\\\n",
       "\t 2013 & StreamA & 14.47 & 6.16\\\\\n",
       "\t 2013 & StreamB & 11.42 & 8.78\\\\\n",
       "\t 2014 & StreamA & 13.37 & 7.05\\\\\n",
       "\t 2014 & StreamB & 11.37 & 8.35\\\\\n",
       "\t 2015 & StreamA & 12.48 & 7.34\\\\\n",
       "\t 2015 & StreamB & 12.18 & 8.44\\\\\n",
       "\t 2016 & StreamA & 12.63 & 6.15\\\\\n",
       "\t 2016 & StreamB & 12.03 & 8.23\\\\\n",
       "\t 2017 & StreamA & 13.16 & 6.89\\\\\n",
       "\t 2017 & StreamB & 11.96 & 8.28\\\\\n",
       "\t 2018 & StreamA & 12.94 & 6.03\\\\\n",
       "\t 2018 & StreamB & 12.56 & 7.83\\\\\n",
       "\t 2019 & StreamA & 14.10 & 7.26\\\\\n",
       "\t 2019 & StreamB & 13.00 & 7.01\\\\\n",
       "\t 2020 & StreamA & 12.07 & 7.53\\\\\n",
       "\t 2020 & StreamB & 12.87 & 7.30\\\\\n",
       "\t 2021 & StreamA & 13.43 & 7.02\\\\\n",
       "\t 2021 & StreamB & 13.25 & 7.42\\\\\n",
       "\t 2022 & StreamA & 13.28 & 6.32\\\\\n",
       "\t 2022 & StreamB & 13.78 & 6.63\\\\\n",
       "\\end{tabular}\n"
      ],
      "text/markdown": [
       "\n",
       "A data.frame: 32 × 4\n",
       "\n",
       "| year &lt;int&gt; | site &lt;chr&gt; | temperature_C &lt;dbl&gt; | dissolved_oxygen &lt;dbl&gt; |\n",
       "|---|---|---|---|\n",
       "| 2007 | StreamA | 13.20 | 7.18 |\n",
       "| 2007 | StreamB | 10.20 |   NA |\n",
       "| 2008 | StreamA | 12.50 | 7.27 |\n",
       "| 2008 | StreamB |    NA | 8.07 |\n",
       "| 2009 | StreamA | 13.90 | 7.46 |\n",
       "| 2009 | StreamB |    NA | 7.26 |\n",
       "| 2010 | StreamA | 11.36 | 7.00 |\n",
       "| 2010 | StreamB | 11.67 |   NA |\n",
       "| 2011 | StreamA | 12.97 | 6.53 |\n",
       "| 2011 | StreamB |    NA |   NA |\n",
       "| 2012 | StreamA | 13.10 | 7.50 |\n",
       "| 2012 | StreamB | 11.10 | 9.50 |\n",
       "| 2013 | StreamA | 14.47 | 6.16 |\n",
       "| 2013 | StreamB | 11.42 | 8.78 |\n",
       "| 2014 | StreamA | 13.37 | 7.05 |\n",
       "| 2014 | StreamB | 11.37 | 8.35 |\n",
       "| 2015 | StreamA | 12.48 | 7.34 |\n",
       "| 2015 | StreamB | 12.18 | 8.44 |\n",
       "| 2016 | StreamA | 12.63 | 6.15 |\n",
       "| 2016 | StreamB | 12.03 | 8.23 |\n",
       "| 2017 | StreamA | 13.16 | 6.89 |\n",
       "| 2017 | StreamB | 11.96 | 8.28 |\n",
       "| 2018 | StreamA | 12.94 | 6.03 |\n",
       "| 2018 | StreamB | 12.56 | 7.83 |\n",
       "| 2019 | StreamA | 14.10 | 7.26 |\n",
       "| 2019 | StreamB | 13.00 | 7.01 |\n",
       "| 2020 | StreamA | 12.07 | 7.53 |\n",
       "| 2020 | StreamB | 12.87 | 7.30 |\n",
       "| 2021 | StreamA | 13.43 | 7.02 |\n",
       "| 2021 | StreamB | 13.25 | 7.42 |\n",
       "| 2022 | StreamA | 13.28 | 6.32 |\n",
       "| 2022 | StreamB | 13.78 | 6.63 |\n",
       "\n"
      ],
      "text/plain": [
       "   year site    temperature_C dissolved_oxygen\n",
       "1  2007 StreamA 13.20         7.18            \n",
       "2  2007 StreamB 10.20           NA            \n",
       "3  2008 StreamA 12.50         7.27            \n",
       "4  2008 StreamB    NA         8.07            \n",
       "5  2009 StreamA 13.90         7.46            \n",
       "6  2009 StreamB    NA         7.26            \n",
       "7  2010 StreamA 11.36         7.00            \n",
       "8  2010 StreamB 11.67           NA            \n",
       "9  2011 StreamA 12.97         6.53            \n",
       "10 2011 StreamB    NA           NA            \n",
       "11 2012 StreamA 13.10         7.50            \n",
       "12 2012 StreamB 11.10         9.50            \n",
       "13 2013 StreamA 14.47         6.16            \n",
       "14 2013 StreamB 11.42         8.78            \n",
       "15 2014 StreamA 13.37         7.05            \n",
       "16 2014 StreamB 11.37         8.35            \n",
       "17 2015 StreamA 12.48         7.34            \n",
       "18 2015 StreamB 12.18         8.44            \n",
       "19 2016 StreamA 12.63         6.15            \n",
       "20 2016 StreamB 12.03         8.23            \n",
       "21 2017 StreamA 13.16         6.89            \n",
       "22 2017 StreamB 11.96         8.28            \n",
       "23 2018 StreamA 12.94         6.03            \n",
       "24 2018 StreamB 12.56         7.83            \n",
       "25 2019 StreamA 14.10         7.26            \n",
       "26 2019 StreamB 13.00         7.01            \n",
       "27 2020 StreamA 12.07         7.53            \n",
       "28 2020 StreamB 12.87         7.30            \n",
       "29 2021 StreamA 13.43         7.02            \n",
       "30 2021 StreamB 13.25         7.42            \n",
       "31 2022 StreamA 13.28         6.32            \n",
       "32 2022 StreamB 13.78         6.63            "
      ]
     },
     "metadata": {},
     "output_type": "display_data"
    }
   ],
   "source": [
    "# write your code here to find mean DO \n",
    "streams"
   ]
  },
  {
   "cell_type": "markdown",
   "id": "5be26c9e-b0e5-42f0-9f90-d5029f7df18e",
   "metadata": {},
   "source": [
    "Now lets use another familiar command to show the `median` of temperature measured across all streams and years?"
   ]
  },
  {
   "cell_type": "code",
   "execution_count": 8,
   "id": "cbf41f4b-1832-461c-ba40-26a29440afe7",
   "metadata": {
    "vscode": {
     "languageId": "r"
    }
   },
   "outputs": [
    {
     "data": {
      "text/html": [
       "7.27"
      ],
      "text/latex": [
       "7.27"
      ],
      "text/markdown": [
       "7.27"
      ],
      "text/plain": [
       "[1] 7.27"
      ]
     },
     "metadata": {},
     "output_type": "display_data"
    }
   ],
   "source": [
    "median(na.omit(streams$dissolved_oxygen))"
   ]
  },
  {
   "cell_type": "code",
   "execution_count": null,
   "id": "baabd923-64cd-4292-879b-99ce1d210e27",
   "metadata": {},
   "outputs": [],
   "source": []
  },
  {
   "cell_type": "markdown",
   "id": "05cbd385-e780-4cb5-bf9f-96f86d48eaca",
   "metadata": {},
   "source": [
    "🧠✍️**Class Question:** \n",
    "\n",
    "- What is the median amount of dissolved oxygen across all samples? "
   ]
  },
  {
   "cell_type": "code",
   "execution_count": null,
   "id": "e3dff047-e64f-47f4-8231-dd85e03e34b6",
   "metadata": {
    "vscode": {
     "languageId": "r"
    }
   },
   "outputs": [],
   "source": [
    "# write your code here to find median DO "
   ]
  },
  {
   "cell_type": "markdown",
   "id": "fd5f08df-7b92-4f3a-93d6-0651f69406cb",
   "metadata": {},
   "source": [
    "## Summarizing by group \n",
    "\n",
    "We previously used `summary()` to get the descriptive statistics of a column or data frame, but this groups all the rows together. Since our goal is to compare the water quality of Stream A and Stream B, we want to get descriptive statistics for them separately. We can do this using `group_by()` and `summarize()`. We explain the code and the commands we will use in the code chunk below.\n",
    "\n",
    "[Read more about the summarize function from the dplyr package in R here](https://dplyr.tidyverse.org/reference/summarise.html). "
   ]
  },
  {
   "cell_type": "code",
   "execution_count": 22,
   "id": "897f2a27-12b4-4f8d-a35f-fc1dddbc3821",
   "metadata": {
    "vscode": {
     "languageId": "r"
    }
   },
   "outputs": [
    {
     "data": {
      "text/html": [
       "<table class=\"dataframe\">\n",
       "<caption>A tibble: 2 × 7</caption>\n",
       "<thead>\n",
       "\t<tr><th scope=col>site</th><th scope=col>min_temp</th><th scope=col>first_q_temp</th><th scope=col>median_temp</th><th scope=col>mean_temp</th><th scope=col>third_q_temp</th><th scope=col>max_temp</th></tr>\n",
       "\t<tr><th scope=col>&lt;chr&gt;</th><th scope=col>&lt;dbl&gt;</th><th scope=col>&lt;dbl&gt;</th><th scope=col>&lt;dbl&gt;</th><th scope=col>&lt;dbl&gt;</th><th scope=col>&lt;dbl&gt;</th><th scope=col>&lt;dbl&gt;</th></tr>\n",
       "</thead>\n",
       "<tbody>\n",
       "\t<tr><td>StreamA</td><td>11.36</td><td>12.5975</td><td>13.13</td><td>13.06000</td><td>13.385</td><td>14.47</td></tr>\n",
       "\t<tr><td>StreamB</td><td>10.20</td><td>11.4200</td><td>12.03</td><td>12.10692</td><td>12.870</td><td>13.78</td></tr>\n",
       "</tbody>\n",
       "</table>\n"
      ],
      "text/latex": [
       "A tibble: 2 × 7\n",
       "\\begin{tabular}{lllllll}\n",
       " site & min\\_temp & first\\_q\\_temp & median\\_temp & mean\\_temp & third\\_q\\_temp & max\\_temp\\\\\n",
       " <chr> & <dbl> & <dbl> & <dbl> & <dbl> & <dbl> & <dbl>\\\\\n",
       "\\hline\n",
       "\t StreamA & 11.36 & 12.5975 & 13.13 & 13.06000 & 13.385 & 14.47\\\\\n",
       "\t StreamB & 10.20 & 11.4200 & 12.03 & 12.10692 & 12.870 & 13.78\\\\\n",
       "\\end{tabular}\n"
      ],
      "text/markdown": [
       "\n",
       "A tibble: 2 × 7\n",
       "\n",
       "| site &lt;chr&gt; | min_temp &lt;dbl&gt; | first_q_temp &lt;dbl&gt; | median_temp &lt;dbl&gt; | mean_temp &lt;dbl&gt; | third_q_temp &lt;dbl&gt; | max_temp &lt;dbl&gt; |\n",
       "|---|---|---|---|---|---|---|\n",
       "| StreamA | 11.36 | 12.5975 | 13.13 | 13.06000 | 13.385 | 14.47 |\n",
       "| StreamB | 10.20 | 11.4200 | 12.03 | 12.10692 | 12.870 | 13.78 |\n",
       "\n"
      ],
      "text/plain": [
       "  site    min_temp first_q_temp median_temp mean_temp third_q_temp max_temp\n",
       "1 StreamA 11.36    12.5975      13.13       13.06000  13.385       14.47   \n",
       "2 StreamB 10.20    11.4200      12.03       12.10692  12.870       13.78   "
      ]
     },
     "metadata": {},
     "output_type": "display_data"
    }
   ],
   "source": [
    "streams %>%\n",
    "    # the column that includes our categorical group, site, is input to 'group_by()'\n",
    "    group_by(site) %>%\n",
    "    # we then use summarize() and input any function to apply to a column. In these examples, all the same statistics from the 'summary()' function are applied to temperature_C\n",
    "    summarize(min_temp = min(temperature_C, na.rm=T),\n",
    "              first_q_temp = quantile(temperature_C, c(0.25), na.rm=T),\n",
    "              median_temp = median(temperature_C, na.rm=T),\n",
    "              mean_temp = mean(temperature_C, na.rm=T),\n",
    "              third_q_temp = quantile(temperature_C, c(0.75), na.rm=T),\n",
    "              max_temp = max(temperature_C, na.rm=T)) \n",
    "                 "
   ]
  },
  {
   "cell_type": "markdown",
   "id": "da0cab0f-b76d-4061-9aa8-770cc291d955",
   "metadata": {},
   "source": [
    "💻 **Your turn!** You can add columns to show descriptive statistics of dissolved oxygen, or redo the above code with `dissolved_oxygen` instead of `temperature_C` inside the descriptive statistic functions. "
   ]
  },
  {
   "cell_type": "code",
   "execution_count": null,
   "id": "c985dabb-55cd-45c1-be8e-9a78dd032477",
   "metadata": {
    "vscode": {
     "languageId": "r"
    }
   },
   "outputs": [],
   "source": [
    "# get the descriptive statistics of dissolved oxygen "
   ]
  },
  {
   "cell_type": "markdown",
   "id": "86b27ef2-63cd-427b-9fba-c26dbd59cd4b",
   "metadata": {},
   "source": [
    "\n",
    "### Preliminary analysis of water quality data from Stream A and Stream B\n",
    "\n",
    "In the next step of this module, we will explore the water quality data in detail, and use this exploration of data to help inform the best decision about which stream is most promising for bull trout reintroduction. As a reminder, temperatures above 14 degrees C and dissolved oxygen levels below 6.2 mg/L tend to be bad for bull trout.\n",
    "\n",
    "For now, let’s use the information in the summary tables above to get a preliminary sense of which stream might have better water quality for bull trout.\n",
    "\n",
    "🧠✍️**Class Questions**\n",
    "\n",
    "- From what we’ve learned about the streams so far, which one do you think would be better to re-introduce bull trout into?\n",
    "\n",
    "- Which of the summary statistics do you think is most useful?\n",
    "\n",
    "- Is there any other information you’d like to know in order to make the best recommendation to the tribe?\n",
    "\n",
    "## Recap Lesson 2.3\n",
    "\n",
    "In this section, we have reviewed:\n",
    "- how to remove NAs\n",
    "- how to run summary statistics by group, using `group_by()` and `summarize()`"
   ]
  }
 ],
 "metadata": {
  "kernelspec": {
   "display_name": "R",
   "language": "R",
   "name": "ir"
  },
  "language_info": {
   "codemirror_mode": "r",
   "file_extension": ".r",
   "mimetype": "text/x-r-source",
   "name": "R",
   "pygments_lexer": "r",
   "version": "4.5.0"
  }
 },
 "nbformat": 4,
 "nbformat_minor": 5
}
