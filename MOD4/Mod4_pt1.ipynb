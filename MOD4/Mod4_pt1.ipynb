{
 "cells": [
  {
   "cell_type": "markdown",
   "id": "a9d8b37e-5181-476c-ba6a-fa4f3ab83760",
   "metadata": {},
   "source": [
    "# Lesson 4.1 Exploring data with ggplot\n",
    "\n",
    "This lesson will review how we can use ggplot to explore a data frame with continuous variables and one column of a categorical variable. \n",
    "\n",
    "## Read in data and preview \n",
    "Below is the data that the forestry managers have been collecting from the different site:"
   ]
  },
  {
   "cell_type": "code",
   "execution_count": 2,
   "id": "2a840eb0-a4ef-443b-8ef0-b00f63ba8310",
   "metadata": {},
   "outputs": [
    {
     "name": "stderr",
     "output_type": "stream",
     "text": [
      "── \u001b[1mAttaching core tidyverse packages\u001b[22m ─────────────────────────────────────────────────────────────────────────────────────────────────────────────────────────────────────────────────────────────────── tidyverse 2.0.0 ──\n",
      "\u001b[32m✔\u001b[39m \u001b[34mdplyr    \u001b[39m 1.1.4     \u001b[32m✔\u001b[39m \u001b[34mreadr    \u001b[39m 2.1.5\n",
      "\u001b[32m✔\u001b[39m \u001b[34mforcats  \u001b[39m 1.0.0     \u001b[32m✔\u001b[39m \u001b[34mstringr  \u001b[39m 1.5.1\n",
      "\u001b[32m✔\u001b[39m \u001b[34mggplot2  \u001b[39m 3.5.2     \u001b[32m✔\u001b[39m \u001b[34mtibble   \u001b[39m 3.2.1\n",
      "\u001b[32m✔\u001b[39m \u001b[34mlubridate\u001b[39m 1.9.4     \u001b[32m✔\u001b[39m \u001b[34mtidyr    \u001b[39m 1.3.1\n",
      "\u001b[32m✔\u001b[39m \u001b[34mpurrr    \u001b[39m 1.0.4     \n",
      "── \u001b[1mConflicts\u001b[22m ───────────────────────────────────────────────────────────────────────────────────────────────────────────────────────────────────────────────────────────────────────────────────── tidyverse_conflicts() ──\n",
      "\u001b[31m✖\u001b[39m \u001b[34mdplyr\u001b[39m::\u001b[32mfilter()\u001b[39m masks \u001b[34mstats\u001b[39m::filter()\n",
      "\u001b[31m✖\u001b[39m \u001b[34mdplyr\u001b[39m::\u001b[32mlag()\u001b[39m    masks \u001b[34mstats\u001b[39m::lag()\n",
      "\u001b[36mℹ\u001b[39m Use the conflicted package (\u001b[3m\u001b[34m<http://conflicted.r-lib.org/>\u001b[39m\u001b[23m) to force all conflicts to become errors\n"
     ]
    },
    {
     "name": "stdout",
     "output_type": "stream",
     "text": [
      "'data.frame':\t15 obs. of  3 variables:\n",
      " $ age         : int  20 30 40 50 60 70 80 90 100 110 ...\n",
      " $ board_feet  : num  0 6041 17490 31906 44130 ...\n",
      " $ tree_density: int  0 165 278 322 308 279 250 224 204 186 ...\n"
     ]
    }
   ],
   "source": [
    "library(tidyverse)\n",
    "\n",
    "site_1 <- read.csv(\"site_1.csv\")\n",
    "site_2 <- read.csv(\"site_2.csv\")\n",
    "site_3 <- read.csv(\"site_3.csv\")\n",
    "site_4 <- read.csv(\"site_4.csv\")\n",
    "\n",
    "# preview using str()\n",
    "str(site_1)"
   ]
  },
  {
   "cell_type": "markdown",
   "id": "ad5bf07c-6e26-4157-b367-a32cd937199a",
   "metadata": {},
   "source": [
    "🧠✍️**Class Questions:** (*hint: edit code above to see different sites*) \n",
    "\n",
    "* What are the dimensions of the data from each site? \n",
    "* What variables does the data you just loaded in contain? \n",
    "* What do these variables mean in the context of forestry management?\n",
    "* How could this data be used to determine which site is the best choice for forestry? \n",
    "\n",
    "### Summary statistics\n",
    "Now lets start to explore the differences between the sites with summary statistics. \n",
    "\n",
    "🧠✍️**Class Question:**\n",
    "\n",
    "* What statistics would help you explore the difference in productivity between the different sites? \n",
    "\n",
    "You can use the following chunk to perform whichever summary statistics you would find helpful. "
   ]
  },
  {
   "cell_type": "code",
   "execution_count": null,
   "id": "b8d2a4c5-2cfd-429d-8ff7-254165d24251",
   "metadata": {},
   "outputs": [],
   "source": [
    "# write code to get summary statistics here "
   ]
  },
  {
   "cell_type": "markdown",
   "id": "f63b47dc-e848-47fa-ab42-7682aee54c41",
   "metadata": {},
   "source": [
    "🧠✍️**Class Questions:**\n",
    "\n",
    "* Based on these summary statistics, which site seems like the best site so far? \n",
    "* Is there any other information you would like to consider about these sites that was not provided in this data set?\n",
    "\n",
    "## Combining data frames \n",
    "\n",
    "Now that you've loaded in and explored that data from each of the sites, it will be useful to combine it in one large data set. We will use `mutate()`, similar to the previous module, to create a new column to identify each site. \n",
    "\n",
    "Then we will combine the rows using `rbind()`. This function combines all the data vertically, but in order to do so, all data frames must have the same column names. "
   ]
  },
  {
   "cell_type": "code",
   "execution_count": 4,
   "id": "0baa45e3-985b-4382-b264-0936ffabc6a6",
   "metadata": {},
   "outputs": [
    {
     "data": {
      "text/html": [
       "<table class=\"dataframe\">\n",
       "<caption>A data.frame: 6 × 4</caption>\n",
       "<thead>\n",
       "\t<tr><th></th><th scope=col>age</th><th scope=col>board_feet</th><th scope=col>tree_density</th><th scope=col>site_ID</th></tr>\n",
       "\t<tr><th></th><th scope=col>&lt;int&gt;</th><th scope=col>&lt;dbl&gt;</th><th scope=col>&lt;int&gt;</th><th scope=col>&lt;dbl&gt;</th></tr>\n",
       "</thead>\n",
       "<tbody>\n",
       "\t<tr><th scope=row>1</th><td>20</td><td>    0.000</td><td>  0</td><td>1</td></tr>\n",
       "\t<tr><th scope=row>2</th><td>30</td><td> 6041.434</td><td>165</td><td>1</td></tr>\n",
       "\t<tr><th scope=row>3</th><td>40</td><td>17490.338</td><td>278</td><td>1</td></tr>\n",
       "\t<tr><th scope=row>4</th><td>50</td><td>31906.178</td><td>322</td><td>1</td></tr>\n",
       "\t<tr><th scope=row>5</th><td>60</td><td>44130.086</td><td>308</td><td>1</td></tr>\n",
       "\t<tr><th scope=row>6</th><td>70</td><td>56994.003</td><td>279</td><td>1</td></tr>\n",
       "</tbody>\n",
       "</table>\n"
      ],
      "text/latex": [
       "A data.frame: 6 × 4\n",
       "\\begin{tabular}{r|llll}\n",
       "  & age & board\\_feet & tree\\_density & site\\_ID\\\\\n",
       "  & <int> & <dbl> & <int> & <dbl>\\\\\n",
       "\\hline\n",
       "\t1 & 20 &     0.000 &   0 & 1\\\\\n",
       "\t2 & 30 &  6041.434 & 165 & 1\\\\\n",
       "\t3 & 40 & 17490.338 & 278 & 1\\\\\n",
       "\t4 & 50 & 31906.178 & 322 & 1\\\\\n",
       "\t5 & 60 & 44130.086 & 308 & 1\\\\\n",
       "\t6 & 70 & 56994.003 & 279 & 1\\\\\n",
       "\\end{tabular}\n"
      ],
      "text/markdown": [
       "\n",
       "A data.frame: 6 × 4\n",
       "\n",
       "| <!--/--> | age &lt;int&gt; | board_feet &lt;dbl&gt; | tree_density &lt;int&gt; | site_ID &lt;dbl&gt; |\n",
       "|---|---|---|---|---|\n",
       "| 1 | 20 |     0.000 |   0 | 1 |\n",
       "| 2 | 30 |  6041.434 | 165 | 1 |\n",
       "| 3 | 40 | 17490.338 | 278 | 1 |\n",
       "| 4 | 50 | 31906.178 | 322 | 1 |\n",
       "| 5 | 60 | 44130.086 | 308 | 1 |\n",
       "| 6 | 70 | 56994.003 | 279 | 1 |\n",
       "\n"
      ],
      "text/plain": [
       "  age board_feet tree_density site_ID\n",
       "1 20      0.000    0          1      \n",
       "2 30   6041.434  165          1      \n",
       "3 40  17490.338  278          1      \n",
       "4 50  31906.178  322          1      \n",
       "5 60  44130.086  308          1      \n",
       "6 70  56994.003  279          1      "
      ]
     },
     "metadata": {},
     "output_type": "display_data"
    }
   ],
   "source": [
    "# create new column site_ID \n",
    "site_1_new <- site_1 %>%\n",
    "  mutate(site_ID = 1)\n",
    "site_2_new <- site_2 %>%\n",
    "  mutate(site_ID = 2)\n",
    "site_3_new <- site_3 %>%\n",
    "  mutate(site_ID = 3)\n",
    "site_4_new <- site_4 %>%\n",
    "  mutate(site_ID = 4)\n",
    "\n",
    "# combine rows with rbind\n",
    "forest<- rbind(site_1_new, site_2_new, site_3_new, site_4_new)\n",
    "\n",
    "# preview it \n",
    "head(forest)"
   ]
  },
  {
   "cell_type": "markdown",
   "id": "102ddd61-9500-438a-b518-7879fe7dbe9e",
   "metadata": {},
   "source": [
    "### Calculate site averages \n",
    "\n",
    "Now calculate the mean board feet at each site from the new combined data. Similar to previous modules, use `group_by()` and `summarize()`"
   ]
  },
  {
   "cell_type": "code",
   "execution_count": 5,
   "id": "57901061-c993-45b9-97b1-b9e200b42179",
   "metadata": {},
   "outputs": [
    {
     "data": {
      "text/html": [
       "<table class=\"dataframe\">\n",
       "<caption>A tibble: 4 × 2</caption>\n",
       "<thead>\n",
       "\t<tr><th scope=col>site_ID</th><th scope=col>mean_board_feet</th></tr>\n",
       "\t<tr><th scope=col>&lt;dbl&gt;</th><th scope=col>&lt;dbl&gt;</th></tr>\n",
       "</thead>\n",
       "<tbody>\n",
       "\t<tr><td>1</td><td> 65852.45</td></tr>\n",
       "\t<tr><td>2</td><td>120152.80</td></tr>\n",
       "\t<tr><td>3</td><td> 29140.57</td></tr>\n",
       "\t<tr><td>4</td><td>107196.58</td></tr>\n",
       "</tbody>\n",
       "</table>\n"
      ],
      "text/latex": [
       "A tibble: 4 × 2\n",
       "\\begin{tabular}{ll}\n",
       " site\\_ID & mean\\_board\\_feet\\\\\n",
       " <dbl> & <dbl>\\\\\n",
       "\\hline\n",
       "\t 1 &  65852.45\\\\\n",
       "\t 2 & 120152.80\\\\\n",
       "\t 3 &  29140.57\\\\\n",
       "\t 4 & 107196.58\\\\\n",
       "\\end{tabular}\n"
      ],
      "text/markdown": [
       "\n",
       "A tibble: 4 × 2\n",
       "\n",
       "| site_ID &lt;dbl&gt; | mean_board_feet &lt;dbl&gt; |\n",
       "|---|---|\n",
       "| 1 |  65852.45 |\n",
       "| 2 | 120152.80 |\n",
       "| 3 |  29140.57 |\n",
       "| 4 | 107196.58 |\n",
       "\n"
      ],
      "text/plain": [
       "  site_ID mean_board_feet\n",
       "1 1        65852.45      \n",
       "2 2       120152.80      \n",
       "3 3        29140.57      \n",
       "4 4       107196.58      "
      ]
     },
     "metadata": {},
     "output_type": "display_data"
    }
   ],
   "source": [
    "#Use this chunk to calculate the mean board_feet from the combined data\n",
    "forest %>% \n",
    "  group_by(site_ID) %>% \n",
    "  summarize(mean_board_feet = mean(board_feet))"
   ]
  },
  {
   "cell_type": "markdown",
   "id": "d81b89ec-13e2-4246-bfd3-f781779df4d0",
   "metadata": {},
   "source": [
    "## Exploring data with plots \n",
    "\n",
    "In order to compare the different sites, we want to use the variable `site_ID` in our plots. Even though we know that it is a discrete value we are using as an ID, R recognizes this variable as a double which will cause issues when trying to plot it as a category. In order to fix this, we are going to save `site_ID` as a factor. Factors in R are categorical variables that can be stored in levels.\n",
    "\n",
    "### Boxplot \n",
    "\n",
    "We are using two columns to plot a boxplot - `site_ID` is a discrete category, and the `board_feet` is a continuous variable. The boxplots will show the distribution of values and statistics for `board_feet` at each site.\n",
    "\n",
    "Create a boxplot with the `forest` dataframe showing `site_ID` on the x-axis, and `board_feet` on the y-axis."
   ]
  },
  {
   "cell_type": "code",
   "execution_count": 10,
   "id": "5130717d-3bd0-4c9b-8754-5f25f2aeb974",
   "metadata": {},
   "outputs": [
    {
     "data": {
      "image/png": "[encoded data removed]",
      "text/plain": [
       "plot without title"
      ]
     },
     "metadata": {
      "image/png": {
       "height": 420,
       "width": 420
      }
     },
     "output_type": "display_data"
    }
   ],
   "source": [
    "# make site ID a factor \n",
    "forest$site_ID <- as.factor(forest$site_ID)\n",
    "\n",
    "# plot using ggplot and geom_boxplot()\n",
    "ggplot(forest) + geom_boxplot(aes(x=site_ID, y=board_feet))"
   ]
  },
  {
   "cell_type": "markdown",
   "id": "1ac1652b-e112-4347-8aa7-0b762e479c03",
   "metadata": {},
   "source": [
    "### Scatter plot \n",
    "\n",
    "Our data frame also contains an `age` column, which represents years, and could be treated as continuous or discrete. In this case, to create a time series, we can treat it as continous, and use it in a scatter plot. Scatter plots typically show the relationship between two continuous variables.  \n",
    "\n",
    "Create a scatter plot with the `forest` dataframe of `board_feet` v. `age`, with `site_ID` as color or shape,  using `geom_point()` "
   ]
  },
  {
   "cell_type": "code",
   "execution_count": 12,
   "id": "616cff4c-eb99-4715-b3ca-6ae83c8c293b",
   "metadata": {},
   "outputs": [
    {
     "data": {
      "image/png": "[encoded data removed]",
      "text/plain": [
       "plot without title"
      ]
     },
     "metadata": {
      "image/png": {
       "height": 420,
       "width": 420
      }
     },
     "output_type": "display_data"
    }
   ],
   "source": [
    "ggplot(forest) + geom_point(aes(y=board_feet, x=age, col=site_ID))"
   ]
  },
  {
   "cell_type": "markdown",
   "id": "2a8dc11c-e5a4-4774-b9fb-a673dc5fc616",
   "metadata": {},
   "source": [
    "## Lesson 4.1 Recap: \n",
    "\n",
    "This lesson has reviewed: \n",
    "\n",
    "- loading in and previewing data\n",
    "- summary statistics\n",
    "- reformatting data with `mutate`, `rbind`, `group_by`, and `summarize`\n",
    "- plotting data with `ggplot` boxplot and scatter plot \n",
    "\n",
    "You have now explored the data in many different ways. Based on the information from the summary statistics, graph, and descriptions of the sites, which site would you recommend as the best for a lumber harvest and why?"
   ]
  }
 ],
 "metadata": {
  "kernelspec": {
   "display_name": "R",
   "language": "R",
   "name": "ir"
  },
  "language_info": {
   "codemirror_mode": "r",
   "file_extension": ".r",
   "mimetype": "text/x-r-source",
   "name": "R",
   "pygments_lexer": "r",
   "version": "4.5.0"
  }
 },
 "nbformat": 4,
 "nbformat_minor": 5
}
