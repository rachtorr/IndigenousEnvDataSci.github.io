{
 "cells": [
  {
   "cell_type": "markdown",
   "metadata": {},
   "source": [
    "# Part 1: R basics and Calculating Screening Values \n",
    "\n",
    "Members of the K'avi have fished the waters on their land for many years to provide food for their community. To manage these waters, K'avi tribal fishery managers have been monitoring fish growth rates across the local water bodies in their community.\n",
    "\n",
    "However, many members of the community have begun to experience health problems associated with heavy metal poisoning. Historically, a factory used to be located upstream of the riverways fished by the K'avi, and waste from this factory was dumped into the nearby waters. Tribal fishery managers are now concerned that members of the community are being exposed to heavy metals through the fish that have been caught in these waters. As a result, they now want to start recording the concentrations of methylmercury in the belly fat of fish in the area. \n",
    "\n",
    "According to the [FDA](https://www.fda.gov/food/environmental-contaminants-food/technical-information-development-fdaepa-advice-about-eating-fish-those-who-might-become-or-are) the safe limit for methylmercury in fish, or screening value, depends on how often fish is consumed, and can range from 0.15ug/g to 0.46ug/g. Above 0.46ug/g should be avoided! This module will explore data on fish size and amount of methylmercury, starting with R basics and learning about how to calculate safe levels of fish consumption. \n",
    "\n",
    "## Loading libraries \n",
    "\n",
    "To use different functions, we need to install and load packages. Think of functions as a tool, and a package as a toolbox. For this module we will bring in [tidyverse](https://www.tidyverse.org/), which is a collection of useful packages for data science. "
   ]
  },
  {
   "cell_type": "code",
   "execution_count": 1,
   "metadata": {},
   "outputs": [
    {
     "name": "stderr",
     "output_type": "stream",
     "text": [
      "Loading required package: tidyverse\n",
      "\n"
     ]
    },
    {
     "name": "stderr",
     "output_type": "stream",
     "text": [
      "── \u001b[1mAttaching core tidyverse packages\u001b[22m ──────────────────────────────────────────────────────────────── tidyverse 2.0.0 ──\n",
      "\u001b[32m✔\u001b[39m \u001b[34mdplyr    \u001b[39m 1.1.4     \u001b[32m✔\u001b[39m \u001b[34mreadr    \u001b[39m 2.1.5\n",
      "\u001b[32m✔\u001b[39m \u001b[34mforcats  \u001b[39m 1.0.0     \u001b[32m✔\u001b[39m \u001b[34mstringr  \u001b[39m 1.5.1\n",
      "\u001b[32m✔\u001b[39m \u001b[34mggplot2  \u001b[39m 3.5.1     \u001b[32m✔\u001b[39m \u001b[34mtibble   \u001b[39m 3.2.1\n",
      "\u001b[32m✔\u001b[39m \u001b[34mlubridate\u001b[39m 1.9.3     \u001b[32m✔\u001b[39m \u001b[34mtidyr    \u001b[39m 1.3.1\n",
      "\u001b[32m✔\u001b[39m \u001b[34mpurrr    \u001b[39m 1.0.2     \n"
     ]
    },
    {
     "name": "stderr",
     "output_type": "stream",
     "text": [
      "── \u001b[1mConflicts\u001b[22m ────────────────────────────────────────────────────────────────────────────────── tidyverse_conflicts() ──\n",
      "\u001b[31m✖\u001b[39m \u001b[34mdplyr\u001b[39m::\u001b[32mfilter()\u001b[39m masks \u001b[34mstats\u001b[39m::filter()\n",
      "\u001b[31m✖\u001b[39m \u001b[34mdplyr\u001b[39m::\u001b[32mlag()\u001b[39m    masks \u001b[34mstats\u001b[39m::lag()\n",
      "\u001b[36mℹ\u001b[39m Use the conflicted package (\u001b[3m\u001b[34m<http://conflicted.r-lib.org/>\u001b[39m\u001b[23m) to force all conflicts to become errors\n"
     ]
    }
   ],
   "source": [
    "# Load packages \n",
    "if(!require(\"tidyverse\")) install.packages(\"tidyverse\")\n",
    "library(tidyverse)"
   ]
  },
  {
   "cell_type": "markdown",
   "metadata": {},
   "source": [
    "## Creating objects in R \n",
    "\n",
    "We will work with different types of objects and data types, including numbers, characters, vectors, and data frames. Here we start with creating objects for the variables and parameters used to calculate the safe limit of fish consumption. According to the FDA, the screening value, or amount of safe fish consumption, depends on a person's body weight and how often they consume the fish. \n",
    "\n",
    "First, the variabls `weight` and `days_per_week` are set. \n",
    "\n",
    "Once we create an object, we can use math or functions on it. Below we calculate `CR`, the mean daily consumption rate of the species of interest (g/d), based on the `days_per_week`"
   ]
  },
  {
   "cell_type": "code",
   "execution_count": 2,
   "metadata": {},
   "outputs": [
    {
     "name": "stdout",
     "output_type": "stream",
     "text": [
      "[1] 160\n"
     ]
    },
    {
     "name": "stdout",
     "output_type": "stream",
     "text": [
      "[1] 2\n"
     ]
    },
    {
     "name": "stdout",
     "output_type": "stream",
     "text": [
      "[1] 31.42857\n"
     ]
    }
   ],
   "source": [
    "# Define variables\n",
    "weight = 160 # lbs\n",
    "days_per_week = 2 # days per week eating fish \n",
    "\n",
    "# print the values \n",
    "print(weight)\n",
    "print(days_per_week)\n",
    "\n",
    "# use days per week to calculate mean daily consumption rate \n",
    "cr = 110*days_per_week/7 \n",
    "print(cr)"
   ]
  },
  {
   "cell_type": "markdown",
   "metadata": {},
   "source": [
    "## Calculating screening values for mercury in fish\n",
    "\n",
    "Below we use the `weight`, mean daily consumption rate `cr`, and the reference dose `RfD` to calculate the screening value, based on FDA recommendations. Because the equation requires body weight in kg, we multiply our body weight in lbs by 0.45. \n",
    "\n",
    "$SV = RfD*weight*0.45/CR$"
   ]
  },
  {
   "cell_type": "code",
   "execution_count": 3,
   "metadata": {},
   "outputs": [
    {
     "name": "stdout",
     "output_type": "stream",
     "text": [
      "[1] 0.2290909\n"
     ]
    }
   ],
   "source": [
    "# Create new object for the reference dose\n",
    "RfD = 0.1 # ug mercury /kg body weight/day\n",
    "\n",
    "# Calculate safe limit \n",
    "safe_limit = RfD * weight * 0.45 / cr\n",
    "\n",
    "print(safe_limit)"
   ]
  },
  {
   "cell_type": "markdown",
   "metadata": {},
   "source": [
    "Try changing the value for `weight` or `days_per_week`, and rerunning the two code chunks above to see the new safe screening value. \n",
    "\n",
    "### Creating vectors \n",
    "\n",
    "Next we will create a vector, which is list of the same type of object, that can similarly be used in a function or equation. Below we have two vectors, `weight` and `servings`. \n",
    "\n",
    "\n"
   ]
  },
  {
   "cell_type": "code",
   "execution_count": 4,
   "metadata": {},
   "outputs": [
    {
     "name": "stdout",
     "output_type": "stream",
     "text": [
      "[1] 140 175 200\n"
     ]
    },
    {
     "name": "stdout",
     "output_type": "stream",
     "text": [
      "[1] 1 6 3\n"
     ]
    },
    {
     "data": {
      "text/html": [
       "140"
      ],
      "text/latex": [
       "140"
      ],
      "text/markdown": [
       "140"
      ],
      "text/plain": [
       "[1] 140"
      ]
     },
     "metadata": {},
     "output_type": "display_data"
    }
   ],
   "source": [
    "# Create vectors \n",
    "weight = c(140, 175, 200)\n",
    "servings = c(1, 6, 3)\n",
    "\n",
    "# can print entire vector \n",
    "print(weight)\n",
    "print(servings)\n",
    "\n",
    "# or a single value from a vector \n",
    "weight[1]"
   ]
  },
  {
   "cell_type": "markdown",
   "metadata": {},
   "source": [
    "### Creating a data frame from vectors \n",
    "\n",
    "Multiple vectors of the same length become columns in a data frame. Below we make a data frame named `sv_df`. When we preview it using the `head()` function, we can see it is comprised of two columns, with the same name as the vectors we created. \n",
    "\n",
    "Inside a data frame, columns are referred to using `$`. We can also preview a single row, using brackets. \n",
    "\n",
    "We then add a third column, where we apply the equation for the screening value to each row "
   ]
  },
  {
   "cell_type": "code",
   "execution_count": 5,
   "metadata": {},
   "outputs": [
    {
     "data": {
      "text/html": [
       "<table class=\"dataframe\">\n",
       "<caption>A data.frame: 3 × 2</caption>\n",
       "<thead>\n",
       "\t<tr><th></th><th scope=col>weight</th><th scope=col>servings</th></tr>\n",
       "\t<tr><th></th><th scope=col>&lt;dbl&gt;</th><th scope=col>&lt;dbl&gt;</th></tr>\n",
       "</thead>\n",
       "<tbody>\n",
       "\t<tr><th scope=row>1</th><td>140</td><td>1</td></tr>\n",
       "\t<tr><th scope=row>2</th><td>175</td><td>6</td></tr>\n",
       "\t<tr><th scope=row>3</th><td>200</td><td>3</td></tr>\n",
       "</tbody>\n",
       "</table>\n"
      ],
      "text/latex": [
       "A data.frame: 3 × 2\n",
       "\\begin{tabular}{r|ll}\n",
       "  & weight & servings\\\\\n",
       "  & <dbl> & <dbl>\\\\\n",
       "\\hline\n",
       "\t1 & 140 & 1\\\\\n",
       "\t2 & 175 & 6\\\\\n",
       "\t3 & 200 & 3\\\\\n",
       "\\end{tabular}\n"
      ],
      "text/markdown": [
       "\n",
       "A data.frame: 3 × 2\n",
       "\n",
       "| <!--/--> | weight &lt;dbl&gt; | servings &lt;dbl&gt; |\n",
       "|---|---|---|\n",
       "| 1 | 140 | 1 |\n",
       "| 2 | 175 | 6 |\n",
       "| 3 | 200 | 3 |\n",
       "\n"
      ],
      "text/plain": [
       "  weight servings\n",
       "1 140    1       \n",
       "2 175    6       \n",
       "3 200    3       "
      ]
     },
     "metadata": {},
     "output_type": "display_data"
    },
    {
     "data": {
      "text/html": [
       "<style>\n",
       ".list-inline {list-style: none; margin:0; padding: 0}\n",
       ".list-inline>li {display: inline-block}\n",
       ".list-inline>li:not(:last-child)::after {content: \"\\00b7\"; padding: 0 .5ex}\n",
       "</style>\n",
       "<ol class=list-inline><li>140</li><li>175</li><li>200</li></ol>\n"
      ],
      "text/latex": [
       "\\begin{enumerate*}\n",
       "\\item 140\n",
       "\\item 175\n",
       "\\item 200\n",
       "\\end{enumerate*}\n"
      ],
      "text/markdown": [
       "1. 140\n",
       "2. 175\n",
       "3. 200\n",
       "\n",
       "\n"
      ],
      "text/plain": [
       "[1] 140 175 200"
      ]
     },
     "metadata": {},
     "output_type": "display_data"
    },
    {
     "data": {
      "text/html": [
       "<table class=\"dataframe\">\n",
       "<caption>A data.frame: 3 × 3</caption>\n",
       "<thead>\n",
       "\t<tr><th></th><th scope=col>weight</th><th scope=col>servings</th><th scope=col>screen_val</th></tr>\n",
       "\t<tr><th></th><th scope=col>&lt;dbl&gt;</th><th scope=col>&lt;dbl&gt;</th><th scope=col>&lt;dbl&gt;</th></tr>\n",
       "</thead>\n",
       "<tbody>\n",
       "\t<tr><th scope=row>1</th><td>140</td><td>1</td><td>0.40090909</td></tr>\n",
       "\t<tr><th scope=row>2</th><td>175</td><td>6</td><td>0.08352273</td></tr>\n",
       "\t<tr><th scope=row>3</th><td>200</td><td>3</td><td>0.19090909</td></tr>\n",
       "</tbody>\n",
       "</table>\n"
      ],
      "text/latex": [
       "A data.frame: 3 × 3\n",
       "\\begin{tabular}{r|lll}\n",
       "  & weight & servings & screen\\_val\\\\\n",
       "  & <dbl> & <dbl> & <dbl>\\\\\n",
       "\\hline\n",
       "\t1 & 140 & 1 & 0.40090909\\\\\n",
       "\t2 & 175 & 6 & 0.08352273\\\\\n",
       "\t3 & 200 & 3 & 0.19090909\\\\\n",
       "\\end{tabular}\n"
      ],
      "text/markdown": [
       "\n",
       "A data.frame: 3 × 3\n",
       "\n",
       "| <!--/--> | weight &lt;dbl&gt; | servings &lt;dbl&gt; | screen_val &lt;dbl&gt; |\n",
       "|---|---|---|---|\n",
       "| 1 | 140 | 1 | 0.40090909 |\n",
       "| 2 | 175 | 6 | 0.08352273 |\n",
       "| 3 | 200 | 3 | 0.19090909 |\n",
       "\n"
      ],
      "text/plain": [
       "  weight servings screen_val\n",
       "1 140    1        0.40090909\n",
       "2 175    6        0.08352273\n",
       "3 200    3        0.19090909"
      ]
     },
     "metadata": {},
     "output_type": "display_data"
    }
   ],
   "source": [
    "# create data frame with two columns - from the vectors weight, servings \n",
    "sv_df <- data.frame(weight, servings)\n",
    "\n",
    "head(sv_df) # preview the entire data frame \n",
    "\n",
    "head(sv_df$weight) # see the column weight \n",
    "\n",
    "# Add column for screening value\n",
    "sv_df$screen_val = RfD * sv_df$weight * 0.45 / (110 * sv_df$serving / 7)\n",
    "\n",
    "head(sv_df)"
   ]
  },
  {
   "cell_type": "markdown",
   "metadata": {},
   "source": [
    "## Visualizing Screening Value vs. Servings Per Week with ggplot\n",
    "\n",
    "Above, we used `head()` to preview our data frame. For longer data frames this will print out the first 6 rows. \n",
    "\n",
    "Another way to preview and explore data frames is to visualize it. Throughout this module, we will use [ggplot2](https://ggplot2.tidyverse.org/). This package was loaded with `tidyverse`. \n",
    "\n",
    "We will create a plot step by step, starting with running `ggplot()` with our dataframe as the input. We then add layers to it using a plus sign. \n"
   ]
  },
  {
   "cell_type": "code",
   "execution_count": 6,
   "metadata": {},
   "outputs": [
    {
     "data": {
      "image/png": "[encoded data removed]",
      "text/plain": [
       "plot without title"
      ]
     },
     "metadata": {
      "image/png": {
       "height": 420,
       "width": 420
      }
     },
     "output_type": "display_data"
    }
   ],
   "source": [
    "ggplot(data=sv_df)"
   ]
  },
  {
   "cell_type": "markdown",
   "metadata": {},
   "source": [
    "\n",
    "Starting with `ggplot()` created the plot, but we need to also include the variables we want to plot. We do this using `aes()` and then include the column name you want on the x-axis, and the column name for the y-axis. \n"
   ]
  },
  {
   "cell_type": "code",
   "execution_count": 7,
   "metadata": {},
   "outputs": [
    {
     "data": {
      "image/png": "[encoded data removed]",
      "text/plain": [
       "plot without title"
      ]
     },
     "metadata": {
      "image/png": {
       "height": 420,
       "width": 420
      }
     },
     "output_type": "display_data"
    }
   ],
   "source": [
    " ggplot(data=sv_df, \n",
    "        aes(x=servings, y=screen_val))"
   ]
  },
  {
   "cell_type": "markdown",
   "metadata": {},
   "source": [
    "\n",
    "Next we need to assign a `geom` - this could be a scatter plot, line plot, or boxplot. We will start with plotting as columns, using `geom_col()`. \n"
   ]
  },
  {
   "cell_type": "code",
   "execution_count": 8,
   "metadata": {},
   "outputs": [
    {
     "data": {
      "image/png": "[encoded data removed]",
      "text/plain": [
       "plot without title"
      ]
     },
     "metadata": {
      "image/png": {
       "height": 420,
       "width": 420
      }
     },
     "output_type": "display_data"
    }
   ],
   "source": [
    " ggplot(data=sv_df, \n",
    "        aes(x=servings, y=screen_val)) + \n",
    "    geom_col()"
   ]
  },
  {
   "cell_type": "markdown",
   "metadata": {},
   "source": [
    "\n",
    "Now we have a draft of our first plot! We can continue to add layers and change the settings to have the plot tell us more about our data, or to make it look nicer. \n",
    "\n",
    "Variables can be included as colors - in this example we set the weight to `fill` which will fill in the column with a color gradient for our weight values. \n"
   ]
  },
  {
   "cell_type": "code",
   "execution_count": 9,
   "metadata": {},
   "outputs": [
    {
     "data": {
      "image/png": "[encoded data removed]",
      "text/plain": [
       "plot without title"
      ]
     },
     "metadata": {
      "image/png": {
       "height": 420,
       "width": 420
      }
     },
     "output_type": "display_data"
    }
   ],
   "source": [
    " ggplot(data=sv_df, \n",
    "        aes(x=servings, y=screen_val, fill=weight)) + \n",
    "    geom_col()"
   ]
  },
  {
   "cell_type": "markdown",
   "metadata": {},
   "source": [
    "\n",
    "We can also change the `theme`, which alters the background and style of our plot. \n"
   ]
  },
  {
   "cell_type": "code",
   "execution_count": 10,
   "metadata": {},
   "outputs": [
    {
     "data": {
      "image/png": "[encoded data removed]",
      "text/plain": [
       "plot without title"
      ]
     },
     "metadata": {
      "image/png": {
       "height": 420,
       "width": 420
      }
     },
     "output_type": "display_data"
    }
   ],
   "source": [
    "ggplot(data=sv_df, \n",
    "       aes(x=servings, y=screen_val, fill=weight)) + \n",
    "    geom_col() + \n",
    "    theme_bw() "
   ]
  },
  {
   "cell_type": "markdown",
   "metadata": {},
   "source": [
    "\n",
    "Finally we can add a title and change the labels to be more descriptive using `labs()`. "
   ]
  },
  {
   "cell_type": "code",
   "execution_count": 11,
   "metadata": {},
   "outputs": [
    {
     "data": {
      "image/png": "[encoded data removed]",
      "text/plain": [
       "plot without title"
      ]
     },
     "metadata": {
      "image/png": {
       "height": 420,
       "width": 420
      }
     },
     "output_type": "display_data"
    }
   ],
   "source": [
    "ggplot(data=sv_df, \n",
    "       aes(x=servings, y=screen_val, fill=weight)) + \n",
    "    geom_col() + \n",
    "    theme_bw() + \n",
    "    labs(x=\"Servings per week\", y=\"Screening value (ug/g)\", title=\"Mercury Screening Value v. Servings per Week\")"
   ]
  }
 ],
 "metadata": {
  "kernelspec": {
   "display_name": "R",
   "language": "R",
   "name": "ir"
  },
  "language_info": {
   "codemirror_mode": "r",
   "file_extension": ".r",
   "mimetype": "text/x-r-source",
   "name": "R",
   "pygments_lexer": "r",
   "version": "4.4.2"
  }
 },
 "nbformat": 4,
 "nbformat_minor": 4
}